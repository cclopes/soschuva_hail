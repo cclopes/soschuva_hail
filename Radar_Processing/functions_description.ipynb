{
 "cells": [
  {
   "cell_type": "markdown",
   "metadata": {},
   "source": [
    "# Funções Diversas (descrição)"
   ]
  },
  {
   "cell_type": "markdown",
   "metadata": {},
   "source": [
    "### `plota_ppi`: Gera gráfico de uma elevação com shapefile de São Paulo"
   ]
  },
  {
   "cell_type": "markdown",
   "metadata": {},
   "source": [
    "Parâmetros:\n",
    "* `arquivo` - arquivo com os dados de radar (já lido pelo Py-ART)\n",
    "* `variavel` - variável a ser plotada\n",
    "* `var_min` - valor mínimo da variável na escala do plot\n",
    "* `var_max` - valor máximo da variável na escala do plot\n",
    "* `elevacao` - elevação a ser plotada\n",
    "* `lon_lims` - limites de longitude do plot\n",
    "* `lat_lims` - limites de latitude do plot"
   ]
  },
  {
   "cell_type": "code",
   "execution_count": 1,
   "metadata": {},
   "outputs": [],
   "source": [
    "def plota_ppi(arquivo, elevacao, lon_lims, lat_lims, \n",
    "             variavel = 'corrected_reflectivity', var_min = 10, var_max = 70):\n",
    "    \n",
    "    display = pyart.graph.RadarMapDisplay(arquivo)\n",
    "    fig = plt.figure(figsize = [12,9])\n",
    "    display.plot_ppi_map(variavel, sweep = elevacao, shapefile = \"shapefiles/sao_paulo\", vmin = var_min, vmax = var_max, \n",
    "                         min_lat = lat_lims[0], max_lat = lat_lims[1], min_lon = lon_lims[0], max_lon = lon_lims[1], \n",
    "                         lat_lines = np.arange(lat_lims[0], lat_lims[1], .5), \n",
    "                         lon_lines = np.arange(lon_lims[0], lon_lims[1], .5))"
   ]
  },
  {
   "cell_type": "markdown",
   "metadata": {},
   "source": [
    "### `two_panel_plot`: Gera painel com dois gráficos com shapefile de São Paulo"
   ]
  },
  {
   "cell_type": "markdown",
   "metadata": {},
   "source": [
    "Parâmetros:\n",
    "* `radar` - arquivo com os dados de radar (já lido pelo Py-ART)\n",
    "* `lon_lims` - limites de longitude dos plots\n",
    "* `lat_lims` - limites de latitude dos plots\n",
    "* `sweep` - elevação a ser plotada\n",
    "* `var1` - variável a ser plotada no gráfico da esquerda\n",
    "* `vmin1` - valor mínimo da variável da esquerda na escala do plot\n",
    "* `vmax1` - valor máximo da variável da esquerda na escala do plot\n",
    "* `cmap1` - escala de cores do gráfico da esquerda\n",
    "* `units1` - unidade da escala do gráfico da esquerda\n",
    "* `var2` - variável a ser plotada no gráfico da direita\n",
    "* `vmin2` - valor mínimo da variável da direita na escala do plot\n",
    "* `vmax2` - valor máximo da variável da direita na escala do plot\n",
    "* `cmap2` - escala de cores do gráfico da direita\n",
    "* `units2` - unidade da escala do gráfico da direita\n",
    "* `return_flag` - painel deve ser plotado? Defaut: False"
   ]
  },
  {
   "cell_type": "code",
   "execution_count": 2,
   "metadata": {},
   "outputs": [],
   "source": [
    "def two_panel_plot(radar, lon_lims, lat_lims, sweep=0, var1='reflectivity', vmin1=10, vmax1=70,\n",
    "                   cmap1='RdYlBu_r', units1='dBZ', var2='differential_reflectivity',\n",
    "                   vmin2=-5, vmax2=5, cmap2='RdYlBu_r', units2='dB', return_flag=False):\n",
    "    \n",
    "    display = pyart.graph.RadarDisplay(radar)\n",
    "    fig = plt.figure(figsize=(13,5))\n",
    "    \n",
    "    ax1 = fig.add_subplot(121)\n",
    "    display.plot_ppi_map(var1, sweep = sweep, shapefile = \"shapefiles/sao_paulo\",\n",
    "                         vmin = vmin1, vmax = vmax1, cmap = cmap1, colorbar_label = units1, mask_outside = True,\n",
    "                         min_lat = lat_lims[0], max_lat = lat_lims[1], min_lon = lon_lims[0], max_lon = lon_lims[1],\n",
    "                         lat_lines = np.arange(lat_lims[0], lat_lims[1], .5), \n",
    "                         lon_lines = np.arange(lon_lims[0], lon_lims[1], .5))\n",
    "    \n",
    "    ax2 = fig.add_subplot(122)\n",
    "    display.plot_ppi_map(var2, sweep = sweep, shapefile = \"shapefiles/sao_paulo\",\n",
    "                         vmin = vmin2, vmax = vmax2, cmap = cmap2, colorbar_label = units2, mask_outside = True,\n",
    "                         min_lat = lat_lims[0], max_lat = lat_lims[1], min_lon = lon_lims[0], max_lon = lon_lims[1],\n",
    "                         lat_lines = np.arange(lat_lims[0], lat_lims[1], .5), \n",
    "                         lon_lines = np.arange(lon_lims[0], lon_lims[1], .5))\n",
    "    \n",
    "    if return_flag:\n",
    "        return fig, ax1, ax2, display"
   ]
  },
  {
   "cell_type": "markdown",
   "metadata": {},
   "source": [
    "### `radar_coords_to_cart`: Convertendo coordenadas do radar para cartesianas"
   ]
  },
  {
   "cell_type": "markdown",
   "metadata": {},
   "source": [
    "TJL - taken from old Py-ART version\n",
    "\n",
    "Calculate Cartesian coordinate from radar coordinates\n",
    "\n",
    "__Parameters__\n",
    "* `rng`: array - Distances to the center of the radar gates (bins) in kilometers.\n",
    "* `az`: array - Azimuth angle of the radar in degrees.\n",
    "* `ele`: array -Elevation angle of the radar in degrees.\n",
    "\n",
    "__Returns__\n",
    "* `x, y, z`: array - Cartesian coordinates in meters from the radar.\n",
    "\n",
    "__Notes__\n",
    "The calculation for Cartesian coordinate is adapted from equations 2.28(b) and 2.28(c) of Doviak and Zrnic [1]_ assuming a standard atmosphere (4/3 Earth's radius model).\n",
    "\n",
    "\\begin{equation*}\n",
    "z = \\sqrt{r^2+R^2+r*R*sin(\\theta_e)} - R  \\\\\n",
    "s = R * arcsin(\\frac{r*cos(\\theta_e)}{R+z})  \\\\\n",
    "x = s * sin(\\theta_a)  \\\\\n",
    "y = s * cos(\\theta_a)  \\\\\n",
    "\\end{equation*}\n",
    "\n",
    "Where r is the distance from the radar to the center of the gate, $\\theta_a$ is the azimuth angle, $\\theta_e$ is the elevation angle, $s$ is the arc length, and $R$ is the effective radius of the earth, taken to be 4/3 the mean radius of earth (6371 km).\n",
    "\n",
    "__References__\n",
    "\n",
    "[1] Doviak and Zrnic, Doppler Radar and Weather Observations, Second Edition, 1993, p. 21."
   ]
  },
  {
   "cell_type": "code",
   "execution_count": 3,
   "metadata": {},
   "outputs": [],
   "source": [
    "def radar_coords_to_cart(rng, az, ele, debug=False):\n",
    "\n",
    "    theta_e = ele * np.pi / 180.0  # elevation angle in radians.\n",
    "    theta_a = az * np.pi / 180.0  # azimuth angle in radians.\n",
    "    R = 6371.0 * 1000.0 * 4.0 / 3.0  # effective radius of earth in meters.\n",
    "    r = rng * 1000.0  # distances to gates in meters.\n",
    "\n",
    "    z = (r ** 2 + R ** 2 + 2.0 * r * R * np.sin(theta_e)) ** 0.5 - R\n",
    "    s = R * np.arcsin(r * np.cos(theta_e) / (R + z))  # arc length in m.\n",
    "    x = s * np.sin(theta_a)\n",
    "    y = s * np.cos(theta_a)\n",
    "    return x, y, z"
   ]
  },
  {
   "cell_type": "markdown",
   "metadata": {},
   "source": [
    "### `get_z_from_radar`: Calculando altura do radar correspondente às elevações"
   ]
  },
  {
   "cell_type": "markdown",
   "metadata": {},
   "source": [
    "Input radar object, return z from radar (km, 2D)"
   ]
  },
  {
   "cell_type": "code",
   "execution_count": 4,
   "metadata": {},
   "outputs": [],
   "source": [
    "def get_z_from_radar(radar):\n",
    "    azimuth_1D = radar.azimuth['data']\n",
    "    elevation_1D = radar.elevation['data']\n",
    "    srange_1D = radar.range['data']\n",
    "    sr_2d, az_2d = np.meshgrid(srange_1D, azimuth_1D)\n",
    "    el_2d = np.meshgrid(srange_1D, elevation_1D)[1]\n",
    "    xx, yy, zz = radar_coords_to_cart(sr_2d/1000.0, az_2d, el_2d)\n",
    "    return zz + radar.altitude['data']"
   ]
  },
  {
   "cell_type": "markdown",
   "metadata": {},
   "source": [
    "### `check_sounding_for_montonic`: Forçando os dados de sondagem a serem monotônicos"
   ]
  },
  {
   "cell_type": "markdown",
   "metadata": {},
   "source": [
    "So the sounding interpolation doesn't fail, force the sounding to behave monotonically so that z always increases. This eliminates data from descending balloons."
   ]
  },
  {
   "cell_type": "code",
   "execution_count": 5,
   "metadata": {},
   "outputs": [],
   "source": [
    "def check_sounding_for_montonic(sounding):\n",
    "    snd_T = sounding.soundingdata['temp']  # In old SkewT, was sounding.data\n",
    "    snd_z = sounding.soundingdata['hght']  # In old SkewT, was sounding.data\n",
    "    dummy_z = []\n",
    "    dummy_T = []\n",
    "    if not snd_T.mask[0]: #May cause issue for specific soundings\n",
    "        dummy_z.append(snd_z[0])\n",
    "        dummy_T.append(snd_T[0])\n",
    "        for i, height in enumerate(snd_z):\n",
    "            if i > 0:\n",
    "                if snd_z[i] > snd_z[i-1] and not snd_T.mask[i]:\n",
    "                    dummy_z.append(snd_z[i])\n",
    "                    dummy_T.append(snd_T[i])\n",
    "        snd_z = np.array(dummy_z)\n",
    "        snd_T = np.array(dummy_T)\n",
    "    return snd_T, snd_z"
   ]
  },
  {
   "cell_type": "markdown",
   "metadata": {},
   "source": [
    "### `interpolate_sounding_to_radar`: interpolando dados de radiossondagens aos de radar"
   ]
  },
  {
   "cell_type": "markdown",
   "metadata": {},
   "source": [
    "Takes sounding data and interpolates it to every radar gate."
   ]
  },
  {
   "cell_type": "code",
   "execution_count": 6,
   "metadata": {},
   "outputs": [],
   "source": [
    "def interpolate_sounding_to_radar(sounding, radar):\n",
    "    radar_z = get_z_from_radar(radar)\n",
    "    radar_T = None\n",
    "    snd_T, snd_z = check_sounding_for_montonic(sounding)\n",
    "    shape = np.shape(radar_z)\n",
    "    rad_z1d = radar_z.ravel()\n",
    "    rad_T1d = np.interp(rad_z1d, snd_z, snd_T)\n",
    "    return np.reshape(rad_T1d, shape), radar_z"
   ]
  },
  {
   "cell_type": "markdown",
   "metadata": {},
   "source": [
    "### `add_field_to_radar_object`: transformando array em dado de radar"
   ]
  },
  {
   "cell_type": "markdown",
   "metadata": {},
   "source": [
    "Adds a newly created field to the Py-ART radar object. If reflectivity is a masked array, make the new field masked the same as reflectivity."
   ]
  },
  {
   "cell_type": "code",
   "execution_count": 8,
   "metadata": {},
   "outputs": [],
   "source": [
    "def add_field_to_radar_object(field, radar, field_name='fuzzy_hydrometeors', units='unitless', \n",
    "                              long_name='Hydrometeor ID from Fuzzy Logic', standard_name='Hydrometeor ID',\n",
    "                              dz_field='corrected_reflectivity'):\n",
    "    fill_value = -32768\n",
    "    masked_field = np.ma.asanyarray(field)\n",
    "    masked_field.mask = masked_field == fill_value\n",
    "    if hasattr(radar.fields[dz_field]['data'], 'mask'):\n",
    "        setattr(masked_field, 'mask', \n",
    "                np.logical_or(masked_field.mask, radar.fields[dz_field]['data'].mask))\n",
    "        fill_value = radar.fields[dz_field]['data'].fill_value\n",
    "    field_dict = {'data': masked_field,\n",
    "                  'units': units,\n",
    "                  'long_name': long_name,\n",
    "                  'standard_name': standard_name,\n",
    "                  '_FillValue': fill_value}\n",
    "    radar.add_field(field_name, field_dict, replace_existing=True)\n",
    "    return radar"
   ]
  },
  {
   "cell_type": "markdown",
   "metadata": {},
   "source": [
    "### `"
   ]
  }
 ],
 "metadata": {
  "kernelspec": {
   "display_name": "Python 2",
   "language": "python",
   "name": "python2"
  },
  "language_info": {
   "codemirror_mode": {
    "name": "ipython",
    "version": 2
   },
   "file_extension": ".py",
   "mimetype": "text/x-python",
   "name": "python",
   "nbconvert_exporter": "python",
   "pygments_lexer": "ipython2",
   "version": "2.7.14"
  }
 },
 "nbformat": 4,
 "nbformat_minor": 2
}
