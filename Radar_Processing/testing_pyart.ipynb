{
 "cells": [
  {
   "cell_type": "code",
   "execution_count": 2,
   "metadata": {},
   "outputs": [
    {
     "name": "stdout",
     "output_type": "stream",
     "text": [
      "\n",
      "## You are using the Python ARM Radar Toolkit (Py-ART), an open source\n",
      "## library for working with weather radar data. Py-ART is partly\n",
      "## supported by the U.S. Department of Energy as part of the Atmospheric\n",
      "## Radiation Measurement (ARM) Climate Research Facility, an Office of\n",
      "## Science user facility.\n",
      "##\n",
      "## If you use this software to prepare a publication, please cite:\n",
      "##\n",
      "##     JJ Helmus and SM Collis, JORS 2016, doi: 10.5334/jors.119\n",
      "\n"
     ]
    }
   ],
   "source": [
    "import pyart\n",
    "import read_brazil_radar as rbr"
   ]
  },
  {
   "cell_type": "code",
   "execution_count": 3,
   "metadata": {},
   "outputs": [],
   "source": [
    "cth = rbr.read_rainbow_hdf5(\"../Dados/RADAR/CTH/level_0_hdf5/2016-12-25/PNOVA2-20161225011500.HDF5\")\n",
    "sr = pyart.aux_io.read_gamic(\"../Dados/RADAR/SR/level_0/2016-12-25/SRO-250--2016-12-25--00-00-23.mvol\")"
   ]
  },
  {
   "cell_type": "code",
   "execution_count": 7,
   "metadata": {},
   "outputs": [],
   "source": [
    "xpol = rbr.read_rainbow_hdf5(\"../Dados/RADAR/UNICAMP/level_0/2017-11-15/117BRX-20171115000007.HDF5\")"
   ]
  },
  {
   "cell_type": "code",
   "execution_count": 8,
   "metadata": {},
   "outputs": [
    {
     "name": "stdout",
     "output_type": "stream",
     "text": [
      "[ 1.   1.6  2.4  3.2  4.2  5.5  6.9  8.6]\n",
      "[  0.49987793   0.99975586   1.99951172   2.99926758   3.99902344\n",
      "   4.9987793    5.99853516   6.99829102   7.99804688   8.99780273\n",
      "   9.99755859  12.00256348  14.0020752   16.00158691  18.00109863]\n",
      "[  0.5   1.8   3.1   4.4   5.7   7.    8.3   9.6  10.9  13.   15.   18.\n",
      "  22.   26.   32.   40.   55. ]\n"
     ]
    }
   ],
   "source": [
    "print(cth.fixed_angle[\"data\"])\n",
    "print(sr.fixed_angle[\"data\"])\n",
    "print(xpol.fixed_angle[\"data\"])"
   ]
  },
  {
   "cell_type": "code",
   "execution_count": 16,
   "metadata": {},
   "outputs": [
    {
     "data": {
      "text/plain": [
       "['Elevation of antenna relative to the horizontal plane',\n",
       " 'elevation_angle_from_horizontal_plane',\n",
       " 'beam_elevation_angle',\n",
       " 'degrees',\n",
       " array([  0.5,   0.5,   0.5, ...,  55. ,  55. ,  55. ]),\n",
       " 'radial_elevation_coordinate']"
      ]
     },
     "execution_count": 16,
     "metadata": {},
     "output_type": "execute_result"
    }
   ],
   "source": [
    "xpol.elevation.values()"
   ]
  }
 ],
 "metadata": {
  "kernelspec": {
   "display_name": "Python 2",
   "language": "python",
   "name": "python2"
  },
  "language_info": {
   "codemirror_mode": {
    "name": "ipython",
    "version": 2
   },
   "file_extension": ".py",
   "mimetype": "text/x-python",
   "name": "python",
   "nbconvert_exporter": "python",
   "pygments_lexer": "ipython2",
   "version": "2.7.15"
  }
 },
 "nbformat": 4,
 "nbformat_minor": 2
}
