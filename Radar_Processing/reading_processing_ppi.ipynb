{
 "cells": [
  {
   "cell_type": "markdown",
   "metadata": {},
   "source": [
    "# PPIs Horizontais\n",
    "## Visão geral, não focada nos casos\n",
    "Este programa:\n",
    "* Lê os dados de PPI\n",
    "    * CTH _(.HDF5)_\n",
    "    * São Roque _(.mvol)_\n",
    "    * UNICAMP __- sem dados para os casos de 2016-12-25, 2017-01-31 e 2017-03-14__ _(.HDF5)_\n",
    "* Seleciona a refletividade corrigida (_corrected reflectivity_)\n",
    "* Plota e salva figuras de algumas elevações\n",
    "    * Para o do CTH:\n",
    "        * [0] 1,0 grau \n",
    "        * [1] 1,6 graus \n",
    "        * [2] 2,4 graus \n",
    "        * [3] 3,2 graus \n",
    "    * Para o de São Roque:\n",
    "        * [0] 0,5 graus\n",
    "        * [1] 1,0 grau\n",
    "        * [2] 2,0 graus\n",
    "        * [3] 3,0 graus\n",
    "    * Para o da UNICAMP: __COM PROBLEMAS__\n",
    "        * [0]\n",
    "        * [1]\n",
    "        * [2]\n",
    "        * [3]"
   ]
  },
  {
   "cell_type": "markdown",
   "metadata": {},
   "source": [
    "## Carregando pacotes necessários"
   ]
  },
  {
   "cell_type": "code",
   "execution_count": 1,
   "metadata": {},
   "outputs": [],
   "source": [
    "#-- RODAR SÓ UMA VEZ!\n",
    "import matplotlib\n",
    "matplotlib.use('Agg')"
   ]
  },
  {
   "cell_type": "code",
   "execution_count": 2,
   "metadata": {},
   "outputs": [
    {
     "name": "stderr",
     "output_type": "stream",
     "text": [
      "/home/camila/anaconda2/lib/python2.7/site-packages/h5py/__init__.py:36: FutureWarning: Conversion of the second argument of issubdtype from `float` to `np.floating` is deprecated. In future, it will be treated as `np.float64 == np.dtype(float).type`.\n",
      "  from ._conv import register_converters as _register_converters\n"
     ]
    },
    {
     "name": "stdout",
     "output_type": "stream",
     "text": [
      "\n",
      "## You are using the Python ARM Radar Toolkit (Py-ART), an open source\n",
      "## library for working with weather radar data. Py-ART is partly\n",
      "## supported by the U.S. Department of Energy as part of the Atmospheric\n",
      "## Radiation Measurement (ARM) Climate Research Facility, an Office of\n",
      "## Science user facility.\n",
      "##\n",
      "## If you use this software to prepare a publication, please cite:\n",
      "##\n",
      "##     JJ Helmus and SM Collis, JORS 2016, doi: 10.5334/jors.119\n",
      "\n"
     ]
    }
   ],
   "source": [
    "%matplotlib inline\n",
    "\n",
    "import read_brazil_radar as rbr\n",
    "import pyart\n",
    "import matplotlib.pyplot as plt\n",
    "import numpy as np"
   ]
  },
  {
   "cell_type": "markdown",
   "metadata": {},
   "source": [
    "### Funções\n",
    "#### Descrição delas em *funcoes_descricao*"
   ]
  },
  {
   "cell_type": "code",
   "execution_count": 3,
   "metadata": {},
   "outputs": [],
   "source": [
    "def plota_ppi(arquivo, elevacao, lon_lims, lat_lims, lat_point1, lon_point1, lat_point2, lon_point2,\n",
    "             variavel = 'corrected_reflectivity', var_min = 10, var_max = 70):\n",
    "    \n",
    "    display = pyart.graph.RadarMapDisplay(arquivo)\n",
    "    fig = plt.figure(figsize = [12,9])\n",
    "    display.plot_ppi_map(variavel, sweep = elevacao, shapefile = \"shapefiles/sao_paulo\", vmin = var_min, vmax = var_max, \n",
    "                         min_lat = lat_lims[0], max_lat = lat_lims[1], min_lon = lon_lims[0], max_lon = lon_lims[1], \n",
    "                         lat_lines = np.arange(lat_lims[0], lat_lims[1], .5), \n",
    "                         lon_lines = np.arange(lon_lims[0], lon_lims[1], .5))\n",
    "    display.plot_point(lat=lat_point1, lon=lon_point1, symbol = 'k.', label_text='hailpad')\n",
    "    display.plot_point(lat=lat_point2, lon=lon_point2, symbol = 'k.', label_text='hailpad')"
   ]
  },
  {
   "cell_type": "markdown",
   "metadata": {},
   "source": [
    "<hr>"
   ]
  },
  {
   "cell_type": "markdown",
   "metadata": {},
   "source": [
    "## Lendo os nomes dos arquivos .hdf5 e .mvol"
   ]
  },
  {
   "cell_type": "markdown",
   "metadata": {},
   "source": [
    "#### CTH"
   ]
  },
  {
   "cell_type": "code",
   "execution_count": 4,
   "metadata": {},
   "outputs": [],
   "source": [
    "files_cth_20161225 = open(\"dados_entrada/cth_level0_20161225\", 'r')\n",
    "files_cth_20161225 = files_cth_20161225.read().split('\\n')\n",
    "\n",
    "files_cth_20170131 = open(\"dados_entrada/cth_level0_20170131\", 'r')\n",
    "files_cth_20170131 = files_cth_20170131.read().split('\\n')\n",
    "\n",
    "files_cth_20170314 = open(\"dados_entrada/cth_level0_20170314\", 'r')\n",
    "files_cth_20170314 = files_cth_20170314.read().split('\\n')\n",
    "\n",
    "files_cth_20171115 = open(\"dados_entrada/cth_level0_20171115\", 'r')\n",
    "files_cth_20171115 = files_cth_20171115.read().split('\\n')\n",
    "\n",
    "files_cth_20171116 = open(\"dados_entrada/cth_level0_20171116\", 'r')\n",
    "files_cth_20171116 = files_cth_20171116.read().split('\\n')"
   ]
  },
  {
   "cell_type": "markdown",
   "metadata": {},
   "source": [
    "#### São Roque"
   ]
  },
  {
   "cell_type": "code",
   "execution_count": 5,
   "metadata": {},
   "outputs": [],
   "source": [
    "files_sr_20161225 = open(\"dados_entrada/sr_level0_20161225\", 'r')\n",
    "files_sr_20161225 = files_sr_20161225.read().split('\\n')\n",
    "\n",
    "files_sr_20170131 = open(\"dados_entrada/sr_level0_20170131\", 'r')\n",
    "files_sr_20170131 = files_sr_20170131.read().split('\\n')\n",
    "\n",
    "files_sr_20170314 = open(\"dados_entrada/sr_level0_20170314\", 'r')\n",
    "files_sr_20170314 = files_sr_20170314.read().split('\\n')\n",
    "\n",
    "files_sr_20171115 = open(\"dados_entrada/sr_level0_20171115\", 'r')\n",
    "files_sr_20171115 = files_sr_20171115.read().split('\\n')\n",
    "\n",
    "files_sr_20171116 = open(\"dados_entrada/sr_level0_20171116\", 'r')\n",
    "files_sr_20171116 = files_sr_20171116.read().split('\\n')"
   ]
  },
  {
   "cell_type": "markdown",
   "metadata": {},
   "source": [
    "#### UNICAMP"
   ]
  },
  {
   "cell_type": "code",
   "execution_count": 6,
   "metadata": {},
   "outputs": [],
   "source": [
    "files_cmp_20171115 = open(\"dados_entrada/cmp_level0_20171115\", 'r')\n",
    "files_cmp_20171115 = files_cmp_20171115.read().split('\\n')\n",
    "\n",
    "files_cmp_20171116 = open(\"dados_entrada/cmp_level0_20171116\", 'r')\n",
    "files_cmp_20171116 = files_cmp_20171116.read().split('\\n')"
   ]
  },
  {
   "cell_type": "markdown",
   "metadata": {},
   "source": [
    "<hr>"
   ]
  },
  {
   "cell_type": "markdown",
   "metadata": {},
   "source": [
    "## Plotando as figuras separadamente e salvando em \"figuras/ppis/\""
   ]
  },
  {
   "cell_type": "markdown",
   "metadata": {},
   "source": [
    "#### CTH"
   ]
  },
  {
   "cell_type": "code",
   "execution_count": 7,
   "metadata": {},
   "outputs": [
    {
     "name": "stderr",
     "output_type": "stream",
     "text": [
      "/home/camila/anaconda2/lib/python2.7/site-packages/mpl_toolkits/basemap/__init__.py:3413: MatplotlibDeprecationWarning: The ishold function was deprecated in version 2.0.\n",
      "  b = ax.ishold()\n",
      "/home/camila/anaconda2/lib/python2.7/site-packages/mpl_toolkits/basemap/__init__.py:3422: MatplotlibDeprecationWarning: axes.hold is deprecated.\n",
      "    See the API Changes document (http://matplotlib.org/api/api_changes.html)\n",
      "    for more details.\n",
      "  ax.hold(b)\n",
      "/home/camila/anaconda2/lib/python2.7/site-packages/mpl_toolkits/basemap/__init__.py:3260: MatplotlibDeprecationWarning: The ishold function was deprecated in version 2.0.\n",
      "  b = ax.ishold()\n",
      "/home/camila/anaconda2/lib/python2.7/site-packages/mpl_toolkits/basemap/__init__.py:3269: MatplotlibDeprecationWarning: axes.hold is deprecated.\n",
      "    See the API Changes document (http://matplotlib.org/api/api_changes.html)\n",
      "    for more details.\n",
      "  ax.hold(b)\n"
     ]
    }
   ],
   "source": [
    "for f in files_cth_20161225:\n",
    "    name = f[50:64]\n",
    "    \n",
    "    try:\n",
    "        #-- Lendo o arquivo\n",
    "        cth = rbr.read_rainbow_hdf5(f)\n",
    "        \n",
    "        #--- Limites do gráfico\n",
    "        lon_lims, lat_lims = [-48, -45], [-24.5, -22]\n",
    "   \n",
    "        #-- Plotando cada nível\n",
    "        for n in range(0, 4):     \n",
    "            plota_ppi(cth, n, lon_lims, lat_lims, -22.83092, -47.08152, -22.83092, -47.08152) #- Gerando o gráfico\n",
    "            plt.savefig(\"figuras/ppis/cth/cth_elev\" + str(n) + \"_\" + name + \".png\", bbox_inches='tight') #- Salvando\n",
    "            plt.close()\n",
    "            \n",
    "    except ValueError:\n",
    "        pass"
   ]
  },
  {
   "cell_type": "code",
   "execution_count": 7,
   "metadata": {},
   "outputs": [
    {
     "name": "stderr",
     "output_type": "stream",
     "text": [
      "/home/camila/anaconda2/lib/python2.7/site-packages/mpl_toolkits/basemap/__init__.py:3260: MatplotlibDeprecationWarning: The ishold function was deprecated in version 2.0.\n",
      "  b = ax.ishold()\n",
      "/home/camila/anaconda2/lib/python2.7/site-packages/mpl_toolkits/basemap/__init__.py:3269: MatplotlibDeprecationWarning: axes.hold is deprecated.\n",
      "    See the API Changes document (http://matplotlib.org/api/api_changes.html)\n",
      "    for more details.\n",
      "  ax.hold(b)\n"
     ]
    }
   ],
   "source": [
    "for f in files_cth_20170131:\n",
    "    name = f[50:64]\n",
    "    \n",
    "    try:\n",
    "        #-- Lendo o arquivo\n",
    "        cth = rbr.read_rainbow_hdf5(f)\n",
    "        \n",
    "        #--- Limites do gráfico\n",
    "        lon_lims, lat_lims = [-48, -45], [-24.5, -22]\n",
    "   \n",
    "        #-- Plotando cada nível\n",
    "        for n in range(0, 4):     \n",
    "            plota_ppi(cth, n, lon_lims, lat_lims, -22.90958, -47.06725, -22.90958, -47.06725) #- Gerando o gráfico\n",
    "            plt.savefig(\"figuras/ppis/cth/cth_elev\" + str(n) + \"_\" + name + \".png\", bbox_inches='tight') #- Salvando\n",
    "            plt.close()\n",
    "            \n",
    "    except (ValueError, KeyError):\n",
    "        pass"
   ]
  },
  {
   "cell_type": "code",
   "execution_count": 15,
   "metadata": {},
   "outputs": [],
   "source": [
    "for f in files_cth_20170314:\n",
    "    name = f[50:64]\n",
    "\n",
    "    try:\n",
    "        #-- Lendo o arquivo\n",
    "        cth = rbr.read_rainbow_hdf5(f)\n",
    "        \n",
    "        #--- Limites do gráfico\n",
    "        lon_lims, lat_lims = [-48, -45], [-24.5, -22]\n",
    "   \n",
    "        #-- Plotando cada nível\n",
    "        for n in range(0, 4):     \n",
    "            plota_ppi(cth, n, lon_lims, lat_lims, -22.6916, -47.1311, -23.0294, -47.20541) #- Gerando o gráfico\n",
    "            plt.savefig(\"figuras/ppis/cth/cth_elev\" + str(n) + \"_\" + name + \".png\", bbox_inches='tight') #- Salvando\n",
    "            plt.close()\n",
    "            \n",
    "    except ValueError:\n",
    "        pass"
   ]
  },
  {
   "cell_type": "code",
   "execution_count": 7,
   "metadata": {},
   "outputs": [
    {
     "name": "stderr",
     "output_type": "stream",
     "text": [
      "/home/camila/anaconda2/lib/python2.7/site-packages/mpl_toolkits/basemap/__init__.py:3413: MatplotlibDeprecationWarning: The ishold function was deprecated in version 2.0.\n",
      "  b = ax.ishold()\n",
      "/home/camila/anaconda2/lib/python2.7/site-packages/mpl_toolkits/basemap/__init__.py:3422: MatplotlibDeprecationWarning: axes.hold is deprecated.\n",
      "    See the API Changes document (http://matplotlib.org/api/api_changes.html)\n",
      "    for more details.\n",
      "  ax.hold(b)\n",
      "/home/camila/anaconda2/lib/python2.7/site-packages/mpl_toolkits/basemap/__init__.py:3260: MatplotlibDeprecationWarning: The ishold function was deprecated in version 2.0.\n",
      "  b = ax.ishold()\n",
      "/home/camila/anaconda2/lib/python2.7/site-packages/mpl_toolkits/basemap/__init__.py:3269: MatplotlibDeprecationWarning: axes.hold is deprecated.\n",
      "    See the API Changes document (http://matplotlib.org/api/api_changes.html)\n",
      "    for more details.\n",
      "  ax.hold(b)\n"
     ]
    }
   ],
   "source": [
    "for f in files_cth_20171115:\n",
    "    name = f[50:64]\n",
    "\n",
    "    try:\n",
    "        #-- Lendo o arquivo\n",
    "        cth = rbr.read_rainbow_hdf5(f)\n",
    "        \n",
    "        #--- Limites do gráfico\n",
    "        lon_lims, lat_lims = [-48, -45], [-24.5, -22]\n",
    "   \n",
    "        #-- Plotando cada nível\n",
    "        for n in range(0, 4):     \n",
    "            plota_ppi(cth, n, lon_lims, lat_lims, -23.0294, -47.20541, -23.0294, -47.20541) #- Gerando o gráfico\n",
    "            plt.savefig(\"figuras/ppis/cth/cth_elev\" + str(n) + \"_\" + name + \".png\", bbox_inches='tight') #- Salvando\n",
    "            plt.close()\n",
    "            \n",
    "    except ValueError:\n",
    "        pass"
   ]
  },
  {
   "cell_type": "code",
   "execution_count": 18,
   "metadata": {},
   "outputs": [
    {
     "name": "stderr",
     "output_type": "stream",
     "text": [
      "read_brazil_radar.py:101: RankWarning: Polyfit may be poorly conditioned\n",
      "  m, b = np.polyfit(x, y, 1)\n"
     ]
    }
   ],
   "source": [
    "for f in files_cth_20171116:\n",
    "    name = f[50:64]\n",
    "\n",
    "    try:\n",
    "        #-- Lendo o arquivo\n",
    "        cth = rbr.read_rainbow_hdf5(f)\n",
    "        \n",
    "        #--- Limites do gráfico\n",
    "        lon_lims, lat_lims = [-48, -45], [-24.5, -22]\n",
    "   \n",
    "        #-- Plotando cada nível\n",
    "        for n in range(0, 4):     \n",
    "            plota_ppi(cth, n, lon_lims, lat_lims, -22.81405, -47.05641, -22.81405, -47.05641) #- Gerando o gráfico\n",
    "            plt.savefig(\"figuras/ppis/cth/cth_elev\" + str(n) + \"_\" + name + \".png\", bbox_inches='tight') #- Salvando\n",
    "            plt.close()\n",
    "            \n",
    "    except (ValueError, KeyError):\n",
    "        pass"
   ]
  },
  {
   "cell_type": "markdown",
   "metadata": {},
   "source": [
    "#### São Roque"
   ]
  },
  {
   "cell_type": "code",
   "execution_count": 8,
   "metadata": {},
   "outputs": [],
   "source": [
    "for f in files_sr_20161225:\n",
    "    name = f[46:63]\n",
    "    \n",
    "    try:\n",
    "        #-- Lendo o arquivo\n",
    "        sr = pyart.aux_io.read_gamic(f)\n",
    "        \n",
    "        #--- Limites do gráfico\n",
    "        lon_lims, lat_lims = [-49, -46], [-24.5, -22]\n",
    "   \n",
    "        #-- Plotando cada nível\n",
    "        for n in range(0, 4):     \n",
    "            plota_ppi(sr, n, lon_lims, lat_lims, -22.83092, -47.08152, -22.83092, -47.08152) #- Gerando o gráfico\n",
    "            plt.savefig(\"figuras/ppis/sr/sr_elev\" + str(n) + \"_\" + name + \".png\", bbox_inches='tight') #- Salvando\n",
    "            plt.close()\n",
    "            \n",
    "    except ValueError:\n",
    "        pass"
   ]
  },
  {
   "cell_type": "code",
   "execution_count": 9,
   "metadata": {},
   "outputs": [],
   "source": [
    "for f in files_sr_20170131:\n",
    "    name = f[46:63]\n",
    "    \n",
    "    try:\n",
    "        #-- Lendo o arquivo\n",
    "        sr = pyart.aux_io.read_gamic(f)\n",
    "        \n",
    "        #--- Limites do gráfico\n",
    "        lon_lims, lat_lims = [-49, -46], [-24.5, -22]\n",
    "   \n",
    "        #-- Plotando cada nível\n",
    "        for n in range(0, 4):     \n",
    "            plota_ppi(sr, n, lon_lims, lat_lims, -22.90958, -47.06725, -22.90958, -47.06725) #- Gerando o gráfico\n",
    "            plt.savefig(\"figuras/ppis/sr/sr_elev\" + str(n) + \"_\" + name + \".png\", bbox_inches='tight') #- Salvando\n",
    "            plt.close()\n",
    "            \n",
    "    except (ValueError, KeyError):\n",
    "        pass"
   ]
  },
  {
   "cell_type": "code",
   "execution_count": 10,
   "metadata": {},
   "outputs": [],
   "source": [
    "for f in files_sr_20170314:\n",
    "    name = f[46:63]\n",
    "    \n",
    "    try:\n",
    "        #-- Lendo o arquivo\n",
    "        sr = pyart.aux_io.read_gamic(f)\n",
    "        \n",
    "        #--- Limites do gráfico\n",
    "        lon_lims, lat_lims = [-49, -46], [-24.5, -22]\n",
    "   \n",
    "        #-- Plotando cada nível\n",
    "        for n in range(0, 4):     \n",
    "            plota_ppi(sr, n, lon_lims, lat_lims, -22.6916, -47.1311, -23.0294, -47.20541) #- Gerando o gráfico\n",
    "            plt.savefig(\"figuras/ppis/sr/sr_elev\" + str(n) + \"_\" + name + \".png\", bbox_inches='tight') #- Salvando\n",
    "            plt.close()\n",
    "            \n",
    "    except ValueError:\n",
    "        pass"
   ]
  },
  {
   "cell_type": "code",
   "execution_count": 11,
   "metadata": {},
   "outputs": [
    {
     "data": {
      "image/png": "[encoded data removed]",
      "text/plain": [
       "<matplotlib.figure.Figure at 0x7f7ef892c290>"
      ]
     },
     "metadata": {},
     "output_type": "display_data"
    },
    {
     "data": {
      "image/png": "[encoded data removed]",
      "text/plain": [
       "<matplotlib.figure.Figure at 0x7f7f02741110>"
      ]
     },
     "metadata": {},
     "output_type": "display_data"
    },
    {
     "data": {
      "image/png": "[encoded data removed]",
      "text/plain": [
       "<matplotlib.figure.Figure at 0x7f7f02c79ad0>"
      ]
     },
     "metadata": {},
     "output_type": "display_data"
    }
   ],
   "source": [
    "for f in files_sr_20171115:\n",
    "    name = f[46:63]\n",
    "    \n",
    "    try:\n",
    "        #-- Lendo o arquivo\n",
    "        sr = pyart.aux_io.read_gamic(f)\n",
    "        \n",
    "        #--- Limites do gráfico\n",
    "        lon_lims, lat_lims = [-49, -46], [-24.5, -22]\n",
    "   \n",
    "        #-- Plotando cada nível\n",
    "        for n in range(0, 4):     \n",
    "            plota_ppi(sr, n, lon_lims, lat_lims, -23.0294, -47.20541, -23.0294, -47.20541) #- Gerando o gráfico\n",
    "            plt.savefig(\"figuras/ppis/sr/sr_elev\" + str(n) + \"_\" + name + \".png\", bbox_inches='tight') #- Salvando\n",
    "            plt.close()\n",
    "            \n",
    "    except (ValueError, IndexError):\n",
    "        pass"
   ]
  },
  {
   "cell_type": "code",
   "execution_count": 12,
   "metadata": {},
   "outputs": [
    {
     "data": {
      "image/png": "[encoded data removed]",
      "text/plain": [
       "<matplotlib.figure.Figure at 0x7f7f011e3090>"
      ]
     },
     "metadata": {},
     "output_type": "display_data"
    },
    {
     "data": {
      "image/png": "[encoded data removed]",
      "text/plain": [
       "<matplotlib.figure.Figure at 0x7f7f00cc19d0>"
      ]
     },
     "metadata": {},
     "output_type": "display_data"
    },
    {
     "data": {
      "image/png": "[encoded data removed]",
      "text/plain": [
       "<matplotlib.figure.Figure at 0x7f7ef5dc6dd0>"
      ]
     },
     "metadata": {},
     "output_type": "display_data"
    }
   ],
   "source": [
    "for f in files_sr_20171116:\n",
    "    name = f[46:63]\n",
    "    \n",
    "    try:\n",
    "        #-- Lendo o arquivo\n",
    "        sr = pyart.aux_io.read_gamic(f)\n",
    "        \n",
    "        #--- Limites do gráfico\n",
    "        lon_lims, lat_lims = [-49, -46], [-24.5, -22]\n",
    "   \n",
    "        #-- Plotando cada nível\n",
    "        for n in range(0, 4):     \n",
    "            plota_ppi(sr, n, lon_lims, lat_lims, -22.81405, -47.05641, -22.81405, -47.05641) #- Gerando o gráfico\n",
    "            plt.savefig(\"figuras/ppis/sr/sr_elev\" + str(n) + \"_\" + name + \".png\", bbox_inches='tight') #- Salvando\n",
    "            plt.close()\n",
    "            \n",
    "    except (ValueError, IndexError):\n",
    "        pass"
   ]
  },
  {
   "cell_type": "markdown",
   "metadata": {},
   "source": [
    "#### UNICAMP"
   ]
  },
  {
   "cell_type": "raw",
   "metadata": {},
   "source": [
    "for f in files_cmp_20171115:\n",
    "    name = f[7:20]\n",
    "    #-- Lendo o arquivo\n",
    "    cmp = pyart.aux_io.read_gamic(f)\n",
    "    print(cmp.fields.keys())\n",
    "    #--- Limites do gráfico\n",
    "    #lon_lims, lat_lims = [-48, -46], [-24, -22]\n",
    "   \n",
    "    #-- Plotando cada nível\n",
    "    #for n in range(0, 4):     \n",
    "    #    plota_ppi(cmp, 'corrected_reflectivity', n, lon_lims, lat_lims) #- Gerando o gráfico\n",
    "    #    plt.savefig(\"figuras/ppis/cmp/cmp_elev\" + str(n) + \"_\" + name + \".png\", bbox_inches='tight') #- Salvando\n",
    "    #    plt.close()"
   ]
  },
  {
   "cell_type": "raw",
   "metadata": {},
   "source": [
    "for f in files_cmp_20171116:\n",
    "    name = f[46:63]\n",
    "    #-- Lendo o arquivo\n",
    "    cmp = rbr.read_rainbow_hdf5(f)\n",
    "    #--- Limites do gráfico\n",
    "    lon_lims, lat_lims = [-48, -46], [-24, -22]\n",
    "   \n",
    "    #-- Plotando cada nível\n",
    "    for n in range(0, 4):     \n",
    "        plota_ppi(cmp, 'corrected_reflectivity', n, lon_lims, lat_lims) #- Gerando o gráfico\n",
    "        plt.savefig(\"figuras/ppis/cmp/cmp_elev\" + str(n) + \"_\" + name + \".png\", bbox_inches='tight') #- Salvando\n",
    "        plt.close()"
   ]
  }
 ],
 "metadata": {
  "kernelspec": {
   "display_name": "Python 2",
   "language": "python",
   "name": "python2"
  },
  "language_info": {
   "codemirror_mode": {
    "name": "ipython",
    "version": 2
   },
   "file_extension": ".py",
   "mimetype": "text/x-python",
   "name": "python",
   "nbconvert_exporter": "python",
   "pygments_lexer": "ipython2",
   "version": "2.7.14"
  }
 },
 "nbformat": 4,
 "nbformat_minor": 2
}
