{
 "cells": [
  {
   "cell_type": "markdown",
   "metadata": {},
   "source": [
    "# Basic Plots of Single Pol Radar Data\n",
    "\n",
    "- Reading and plotting radar data with `pyart`\n",
    "    - São Roque (SR) (S Band, Single Pol) - variables *corrected_reflectivity*, *corrected_velocity*\n",
    "    - Cases:\n",
    "        - 2016-12-25\n",
    "        - 2017-01-31\n",
    "        - 2017-03-14\n",
    "        - 2017-11-15\n",
    "        - 2017-11-16"
   ]
  },
  {
   "cell_type": "markdown",
   "metadata": {},
   "source": [
    "## Loading necessary packages"
   ]
  },
  {
   "cell_type": "code",
   "execution_count": 1,
   "metadata": {},
   "outputs": [
    {
     "name": "stdout",
     "output_type": "stream",
     "text": [
      "\n",
      "## You are using the Python ARM Radar Toolkit (Py-ART), an open source\n",
      "## library for working with weather radar data. Py-ART is partly\n",
      "## supported by the U.S. Department of Energy as part of the Atmospheric\n",
      "## Radiation Measurement (ARM) Climate Research Facility, an Office of\n",
      "## Science user facility.\n",
      "##\n",
      "## If you use this software to prepare a publication, please cite:\n",
      "##\n",
      "##     JJ Helmus and SM Collis, JORS 2016, doi: 10.5334/jors.119\n",
      "\n"
     ]
    }
   ],
   "source": [
    "from __future__ import print_function\n",
    "import numpy as np\n",
    "import pandas as pd\n",
    "import matplotlib.pyplot as plt\n",
    "import matplotlib.colors as colors\n",
    "import glob\n",
    "from datetime import datetime\n",
    "\n",
    "import pyart\n",
    "\n",
    "%matplotlib inline"
   ]
  },
  {
   "cell_type": "markdown",
   "metadata": {},
   "source": [
    "## Defining necessary functions"
   ]
  },
  {
   "cell_type": "markdown",
   "metadata": {},
   "source": [
    "### `read_radar_data`\n",
    "Using radar filenames, read the data and adjust some variables"
   ]
  },
  {
   "cell_type": "code",
   "execution_count": 2,
   "metadata": {},
   "outputs": [],
   "source": [
    "def read_radar_data(filename):\n",
    "    file = pyart.aux_io.read_gamic(filename)\n",
    "    file_date = pd.to_datetime(file.time['units'][14:])\n",
    "    \n",
    "    file.fields['corrected_reflectivity']['standard_name'] = 'corrected_reflectivity'\n",
    "    file.fields['corrected_velocity']['standard_name'] = 'corrected_velocity'\n",
    "    \n",
    "    print('File ' + filename + ' read!')\n",
    "    return file"
   ]
  },
  {
   "cell_type": "markdown",
   "metadata": {},
   "source": [
    "### `plot_horizontal_panel`\n",
    "Using radar and hailpads data, plot horizontal view of fields with hailpad position\n",
    "\n",
    "**WARNING**: Colorbar legends were modified from original Py-ART structure\n",
    "\n",
    "`pyart/grapy/common.py` - line 93\n",
    "```python\n",
    "def generate_colorbar_label(standard_name, units):\n",
    "    \"\"\" Generate and return a label for a colorbar. \"\"\"\n",
    "    return standard_name.replace('_', ' ').title() + '\\n(' + units + ')'\n",
    "```"
   ]
  },
  {
   "cell_type": "code",
   "execution_count": 3,
   "metadata": {},
   "outputs": [],
   "source": [
    "def plot_horizontal_panel(file, hailpads, display_limits, shapefile, radar, save_to, sweep=1):\n",
    "    #-- Defining date, sweep and hailpad data for the date\n",
    "    file_date = pd.to_datetime(file.time['units'][14:])\n",
    "    file_sweep = file.fixed_angle['data'][sweep]\n",
    "    hailpad = hailpads.loc[file_date.strftime('%Y-%m-%d')]\n",
    "    \n",
    "    #-- Start to plot\n",
    "    display = pyart.graph.RadarMapDisplay(file)\n",
    "    fig, ax = plt.subplots(1, 2, sharex=True, sharey=True, figsize=[9,2.75])\n",
    "    fig.set_facecolor('w')\n",
    "    xlim, ylim = display_limits\n",
    "    \n",
    "    #--- Reflectivity\n",
    "    display.plot_ppi_map('corrected_reflectivity', sweep=sweep, ax=ax[0], shapefile=shapefile,\n",
    "                         max_lat=ylim[1], min_lat=ylim[0], min_lon=xlim[0], max_lon=xlim[1],\n",
    "                         vmin = 10, vmax = 70, mask_outside=True, title_flag=False, \n",
    "                         lat_lines=np.arange(ylim[0], ylim[1], .2), lon_lines=np.arange(xlim[0], xlim[1], .25))\n",
    "    if len(hailpad) == 2:\n",
    "        display.plot_point(lat=hailpad['lat'][0], lon=hailpad['lon'][0], ax=ax[0], symbol = 'ks', #-- Hailpad\n",
    "                           markersize=10, markerfacecolor='None')\n",
    "        display.plot_point(lat=hailpad['lat'][1], lon=hailpad['lon'][1], ax=ax[0], symbol = 'ks', #-- Hailpad\n",
    "                           markersize=10, markerfacecolor='None')\n",
    "    else:\n",
    "        display.plot_point(lat=hailpad['lat'], lon=hailpad['lon'], ax=ax[0], symbol = 'ks', #-- Hailpad\n",
    "                           markersize=10, markerfacecolor='None')\n",
    "    #--- Doppler Velocity\n",
    "    display.plot_ppi_map('corrected_velocity', sweep=sweep, ax=ax[1], shapefile=shapefile,\n",
    "                         max_lat=ylim[1], min_lat=ylim[0], min_lon=xlim[0], max_lon=xlim[1],\n",
    "                         vmin = -15, vmax = 15, mask_outside=True, title_flag=False, \n",
    "                         lat_lines=np.arange(ylim[0], ylim[1], .2), lon_lines=np.arange(xlim[0], xlim[1], .25))\n",
    "    if len(hailpad) == 2:\n",
    "        display.plot_point(lat=hailpad['lat'][0], lon=hailpad['lon'][0], ax=ax[1], symbol = 'ks', #-- Hailpad\n",
    "                           markersize=10, markerfacecolor='None')\n",
    "        display.plot_point(lat=hailpad['lat'][1], lon=hailpad['lon'][1], ax=ax[1], symbol = 'ks', #-- Hailpad\n",
    "                           markersize=10, markerfacecolor='None')\n",
    "    else:\n",
    "        display.plot_point(lat=hailpad['lat'], lon=hailpad['lon'], ax=ax[1], symbol = 'ks', #-- Hailpad\n",
    "                           markersize=10, markerfacecolor='None')\n",
    "    \n",
    "    #--- Common aspects\n",
    "    plt.suptitle(radar.upper() + ' ' + str(round(file_sweep, 1)) + ' deg ' + str(file_date) + ' UTC', \n",
    "                 weight='bold', stretch='condensed', size='xx-large', y=1)\n",
    "    \n",
    "    #-- Saving the figure\n",
    "    plt.savefig(save_to + radar + '_ppi_h_' + file_date.strftime('%Y%m%d%H%M') + 'UTC.png', \n",
    "                dpi=300, transparent=True, bbox_inches='tight')\n",
    "    plt.close()\n",
    "    \n",
    "    return 'Plotting horizontal view for date ' + str(file_date)"
   ]
  },
  {
   "cell_type": "markdown",
   "metadata": {},
   "source": [
    "### `plot_vertical_panel`\n",
    "Using radar and hailpads data, plot vertical view of fields with hailpad position\n",
    "\n",
    "**WARNING**: Colorbar legends were modified from original Py-ART structure\n",
    "\n",
    "`pyart/grapy/common.py` - line 93\n",
    "```python\n",
    "def generate_colorbar_label(standard_name, units):\n",
    "    \"\"\" Generate and return a label for a colorbar. \"\"\"\n",
    "    return standard_name.replace('_', ' ').title() + '\\n(' + units + ')'\n",
    "```"
   ]
  },
  {
   "cell_type": "code",
   "execution_count": 4,
   "metadata": {},
   "outputs": [],
   "source": [
    "def plot_vertical_panel(file, hailpads, x_limits, radar, save_to):\n",
    "    #-- Defining date and hailpad data for the date\n",
    "    file_date = pd.to_datetime(file.time['units'][14:])\n",
    "    hailpad = hailpads.loc[file_date.strftime('%Y-%m-%d')]\n",
    "    \n",
    "    #-- Plotting only when hailfall occurred\n",
    "    if np.any(file_date.strftime('%H-%M') == hailpad['time_sr']):\n",
    "        if len(hailpad) == 2:\n",
    "            if file_date.strftime('%H-%M') == hailpad['time_sr'][0]:\n",
    "                hailpad = hailpad.iloc[0]\n",
    "            else:\n",
    "                hailpad = hailpad.iloc[1]\n",
    "        \n",
    "        #--- Selecting cross-section\n",
    "        file_cs = pyart.util.cross_section_ppi(file, [hailpad['azim_sr']])\n",
    "        \n",
    "        #--- Start to plot\n",
    "        display = pyart.graph.RadarDisplay(file_cs)\n",
    "        fig, ax = plt.subplots(1, 2, sharex=True, sharey=True, figsize=[6.5,2])\n",
    "        fig.set_facecolor('w')\n",
    "   \n",
    "        #---- Reflectivity\n",
    "        display.plot('corrected_reflectivity', vmin=10, vmax=70, title='', ax=ax[0], axislabels_flag=False)\n",
    "        pnt = ax[0].scatter(x=hailpad['pos_sr'], y=1, marker='s', c='None', edgecolors='black') #-- Hailpad\n",
    "        ax[0].grid(linestyle=':', c='k')\n",
    "        \n",
    "        #---- Doppler Velocity\n",
    "        display.plot('corrected_velocity', vmin=-15, vmax=15, title='', ax=ax[1], axislabels_flag=False)\n",
    "        pnt = ax[1].scatter(x=hailpad['pos_sr'], y=1, marker='s', c='None', edgecolors='black') #-- Hailpad\n",
    "        ax[1].grid(linestyle=':', c='k')\n",
    "        \n",
    "        #--- Common aspects\n",
    "        plt.suptitle(radar.upper() + ' ' + str(file_date) + ' UTC - Azimuth = ' + str(hailpad['azim_sr']) + ' deg', \n",
    "                     weight='bold', stretch='condensed', size='x-large', y=1.05)\n",
    "        plt.xlim(x_limits)\n",
    "        plt.ylim((0,18))\n",
    "        \n",
    "        #--- Manual labelling (outer_label doesn't work!)\n",
    "        ax[0].set(xlabel='Distance from Radar (km)', ylabel='Distance above\\nRadar (km)')\n",
    "        ax[1].set(xlabel='Distance from Radar (km)', ylabel='')\n",
    "        \n",
    "        #--- Saving the figure\n",
    "        plt.savefig(save_to + radar + '_ppi_v_' + file_date.strftime('%Y%m%d%H%M') + 'UTC.png', \n",
    "                    dpi=300, transparent=True, bbox_inches='tight')\n",
    "        plt.close()\n",
    "    \n",
    "    return 'Plotting vertical view for date ' + str(file_date)"
   ]
  },
  {
   "cell_type": "markdown",
   "metadata": {},
   "source": [
    "## Defining filepaths and custom variables"
   ]
  },
  {
   "cell_type": "code",
   "execution_count": 5,
   "metadata": {},
   "outputs": [
    {
     "name": "stdout",
     "output_type": "stream",
     "text": [
      "           time_cth time_sr       lat       lon  pos_cth  azim_cth  pos_sr  \\\n",
      "2016-12-25    19-40   19-40 -22.83092 -47.08152      141       307    85.0   \n",
      "2017-01-31    19-24   19-30 -22.90958 -47.06725      135       304    78.0   \n",
      "2017-03-14    18-27   18-30 -22.69160 -47.13110      155       310   101.0   \n",
      "2017-03-14    19-57   20-00 -23.02940 -47.20541      140       297    63.0   \n",
      "2017-11-15    21-50   24-00 -23.02940 -47.20541      142       296     NaN   \n",
      "2017-11-16    18-20   18-20 -22.81405 -47.05641      141       308    88.0   \n",
      "\n",
      "            azim_sr  \n",
      "2016-12-25      1.6  \n",
      "2017-01-31      1.6  \n",
      "2017-03-14    358.5  \n",
      "2017-03-14    350.0  \n",
      "2017-11-15      NaN  \n",
      "2017-11-16      2.7  \n",
      "sr_filenames length is: 226\n"
     ]
    }
   ],
   "source": [
    "sr_filenames = open(\"files_sr_level0.txt\").read().split('\\n')\n",
    "hailpad_data = pd.read_csv(\"../Data/GENERAL/hailpads_registry.txt\", index_col=0)\n",
    "shapefile = \"../Data/GENERAL/shapefiles/sao_paulo\"\n",
    "save_path = \"figures/ppis/sr/\"\n",
    "radar_name = \"sr\"\n",
    "\n",
    "#-- Limits in horizontal view panel\n",
    "#--- [[xlim], [ylim]]\n",
    "limits = [[-47.5,-46.5], [-23.3,-22.5]]\n",
    "\n",
    "#-- Limits (x axis) in vertical panel\n",
    "#--- (xlim)\n",
    "xlimits = (50,110)\n",
    "\n",
    "print(hailpad_data)\n",
    "print('sr_filenames length is: ' + str(len(sr_filenames)))"
   ]
  },
  {
   "cell_type": "markdown",
   "metadata": {},
   "source": [
    "## Processing all the files in *sr_filenames*\n",
    "\n",
    "Doing in small parts because Jupyter can't process large `for`"
   ]
  },
  {
   "cell_type": "raw",
   "metadata": {},
   "source": [
    "for filename in sr_filenames[:50]:\n",
    "    radar = read_radar_data(filename)\n",
    "    print(plot_horizontal_panel(radar, hailpad_data, limits, shapefile, radar_name, save_path))\n",
    "    print(plot_vertical_panel(radar, hailpad_data, xlimits, radar_name, save_path))"
   ]
  },
  {
   "cell_type": "raw",
   "metadata": {},
   "source": [
    "for filename in sr_filenames[50:100]:\n",
    "    try:\n",
    "        radar = read_radar_data(filename)\n",
    "        print(plot_horizontal_panel(radar, hailpad_data, limits, shapefile, radar_name, save_path))\n",
    "        print(plot_vertical_panel(radar, hailpad_data, xlimits, radar_name, save_path))\n",
    "    except KeyError:\n",
    "        pass"
   ]
  },
  {
   "cell_type": "raw",
   "metadata": {},
   "source": [
    "for filename in sr_filenames[100:150]:\n",
    "    radar = read_radar_data(filename)\n",
    "    print(plot_horizontal_panel(radar, hailpad_data, limits, shapefile, radar_name, save_path))\n",
    "    print(plot_vertical_panel(radar, hailpad_data, xlimits, radar_name, save_path))"
   ]
  },
  {
   "cell_type": "raw",
   "metadata": {},
   "source": [
    "for filename in sr_filenames[150:200]:\n",
    "    radar = read_radar_data(filename)\n",
    "    print(plot_horizontal_panel(radar, hailpad_data, limits, shapefile, radar_name, save_path))\n",
    "    print(plot_vertical_panel(radar, hailpad_data, xlimits, radar_name, save_path))"
   ]
  },
  {
   "cell_type": "raw",
   "metadata": {},
   "source": [
    "for filename in sr_filenames[200:]:\n",
    "    radar = read_radar_data(filename)\n",
    "    print(plot_horizontal_panel(radar, hailpad_data, limits, shapefile, radar_name, save_path))\n",
    "    print(plot_vertical_panel(radar, hailpad_data, xlimits, radar_name, save_path))"
   ]
  }
 ],
 "metadata": {
  "kernelspec": {
   "display_name": "Python 2",
   "language": "python",
   "name": "python2"
  },
  "language_info": {
   "codemirror_mode": {
    "name": "ipython",
    "version": 2
   },
   "file_extension": ".py",
   "mimetype": "text/x-python",
   "name": "python",
   "nbconvert_exporter": "python",
   "pygments_lexer": "ipython2",
   "version": "2.7.15"
  }
 },
 "nbformat": 4,
 "nbformat_minor": 2
}
