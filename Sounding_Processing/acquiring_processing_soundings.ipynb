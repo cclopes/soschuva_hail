{
 "cells": [
  {
   "cell_type": "markdown",
   "metadata": {},
   "source": [
    "# Sounding data from Wyoming\n",
    "\n",
    "- Acquiring data with `siphon`\n",
    "    - Cases (up to two days earlier):\n",
    "        - 2017-03-14\n",
    "        - 2017-11-15\n",
    "  \n",
    "  \n",
    "- Processing data with `metpy`\n",
    "    - Generating Skew-T Log-P maps\n",
    "    \n",
    "Based on [Skew-T with Complex Layout Example (MetPy documentation)](https://unidata.github.io/MetPy/latest/examples/plots/Skew-T_Layout.html#sphx-glr-examples-plots-skew-t-layout-py)."
   ]
  },
  {
   "cell_type": "markdown",
   "metadata": {},
   "source": [
    "## Loading necessary packages"
   ]
  },
  {
   "cell_type": "code",
   "execution_count": 1,
   "metadata": {},
   "outputs": [],
   "source": [
    "import matplotlib.pyplot as plt\n",
    "import matplotlib.gridspec as gridspec\n",
    "import numpy as np\n",
    "import pandas as pd\n",
    "\n",
    "import datetime\n",
    "from siphon.simplewebservice.wyoming import WyomingUpperAir\n",
    "\n",
    "import metpy.calc as mpcalc\n",
    "from metpy.cbook import get_test_data\n",
    "from metpy.plots import add_metpy_logo, Hodograph, SkewT\n",
    "from metpy.units import units"
   ]
  },
  {
   "cell_type": "markdown",
   "metadata": {},
   "source": [
    "## Defining necessary functions"
   ]
  },
  {
   "cell_type": "markdown",
   "metadata": {},
   "source": [
    "### `acquire_sounding_data`\n",
    "\n",
    "Using the date of the case:\n",
    "\n",
    "- List dates up to 96h before, from 12 to 12 hours\n",
    "- Get sounding data for each date using `siphon`"
   ]
  },
  {
   "cell_type": "code",
   "execution_count": 2,
   "metadata": {},
   "outputs": [],
   "source": [
    "def acquire_sounding_data(case):\n",
    "    dates = [case - datetime.timedelta(hours=x) for x in range(0, 96, 12)]\n",
    "    soundings = []\n",
    "\n",
    "    for i in dates:\n",
    "        try: soundings.append(WyomingUpperAir.request_data(i, station))\n",
    "        except ValueError: pass\n",
    "        \n",
    "    return soundings"
   ]
  },
  {
   "cell_type": "markdown",
   "metadata": {},
   "source": [
    "### `pressure_interval`\n",
    "\n",
    "Using sounding data, define less barbs points for the plot"
   ]
  },
  {
   "cell_type": "code",
   "execution_count": 3,
   "metadata": {},
   "outputs": [],
   "source": [
    "def pressure_interval(p, u, v, upper=100, lower=1000, spacing=50):\n",
    "\n",
    "    intervals = list(range(upper,lower,spacing))\n",
    "\n",
    "    ix = []\n",
    "    for center in intervals:\n",
    "        index = (np.abs(p-center)).argmin()\n",
    "        if index not in ix:\n",
    "            ix.append(index)\n",
    "\n",
    "    return p[ix],u[ix],v[ix]"
   ]
  },
  {
   "cell_type": "markdown",
   "metadata": {},
   "source": [
    "### `extract_vars_plot_save_figs`\n",
    "\n",
    "Using sounding data, station index and filepath:\n",
    "\n",
    "- Extract variables necessary for the plot\n",
    "- Calculate LCL, full parcel profile, bigger interval for barbs (`pressure_interval`), CAPE, CIN\n",
    "- Plot using `SkewT`\n",
    "- Save in the filepath"
   ]
  },
  {
   "cell_type": "code",
   "execution_count": 4,
   "metadata": {},
   "outputs": [],
   "source": [
    "def extract_vars_plot_save_figs(sounding, station, save_path):\n",
    "    #-- Extracting variables\n",
    "    sounding = sounding.dropna(subset=('pressure', 'temperature', 'dewpoint', 'u_wind', 'v_wind'), how='all')\n",
    "    p = sounding['pressure'].values\n",
    "    T = sounding['temperature'].values * units.degC\n",
    "    Td = sounding['dewpoint'].values * units.degC\n",
    "    u = sounding['u_wind'].values\n",
    "    v = sounding['v_wind'].values\n",
    "    date = sounding['time'][1]\n",
    "    height = sounding['height'].values\n",
    "\n",
    "    #-- Calculating variables\n",
    "    lcl_pressure, lcl_temperature = mpcalc.lcl(p[0] * units.hPa, T[0], Td[0])\n",
    "    prof = mpcalc.parcel_profile(p * units.hPa, T[0], Td[0]).to('degC')\n",
    "    p_, u_, v_ = pressure_interval(p, u, v)\n",
    "    cape, cin = mpcalc.cape_cin(p * units.hPa, T, Td, prof)\n",
    "    try: cape = int(round(cape * units.kilogram/units.joule))\n",
    "    except ValueError: cape = 0\n",
    "    try: cin = int(round(cin * units.kilogram/units.joule))\n",
    "    except ValueError: cin = 0\n",
    "        \n",
    "    #-- Start to plot\n",
    "    fig = plt.figure(figsize=(7, 6))\n",
    "    fig.set_facecolor(\"w\")\n",
    "    \n",
    "    #--- Grid\n",
    "    gs = gridspec.GridSpec(3, 3)\n",
    "    skew = SkewT(fig, rotation=45, subplot=gs[:, :2])\n",
    "    \n",
    "    #--- Limits and title\n",
    "    skew.ax.set_xlim(-30, 60)\n",
    "    skew.ax.set_ylim(1000, 100)\n",
    "    skew.ax.set_title('Station ' + station + '\\n' + str(date) + ' UTC', weight='bold', stretch='condensed', size='x-large')\n",
    "    skew.ax.set_xlabel('T, Td (deg. Celsius)', weight='bold', stretch='condensed', size='large')\n",
    "    skew.ax.set_ylabel('p (hPa)', weight='bold', stretch='condensed', size='large')\n",
    "\n",
    "    #--- Adding data\n",
    "    skew.plot(p, T, 'r', linewidth=2)\n",
    "    skew.plot(p, Td, 'g', linewidth=2)\n",
    "    skew.plot(lcl_pressure, lcl_temperature, 'ko', markerfacecolor='black')\n",
    "    skew.plot(p, prof, 'k', linewidth=1)\n",
    "    if cin > 0: skew.shade_cin(p, T, prof)\n",
    "    if cape > 0: skew.shade_cape(p, T, prof)\n",
    "    skew.plot_dry_adiabats(linewidth=1)\n",
    "    skew.plot_moist_adiabats(linewidth=1)\n",
    "    skew.plot_mixing_lines(linewidth=1)\n",
    "    skew.plot_barbs(p_, u_, v_, flip_barb=True)\n",
    "\n",
    "    #--- Adding hodograph\n",
    "    ax = fig.add_subplot(gs[0, -1])\n",
    "    h = Hodograph(ax, component_range=60.)\n",
    "    h.add_grid(increment=20)\n",
    "    h.plot(u_, v_, linewidth=1.5, c='black')\n",
    "        \n",
    "    #--- (Trying to) add a colorbar for colored hodograph\n",
    "    # gradient = np.linspace(0, 1, 256)\n",
    "    # gradient = np.vstack((gradient, gradient))\n",
    "    # ax = fig.add_axes([0.67, 0.6, 0.23, 0.01])\n",
    "    # ax.imshow(gradient, aspect='auto', cmap=plt.get_cmap('viridis'))\n",
    "    # ax.set_xlabel('Height (km)')\n",
    "    # ax.yaxis.set_ticks([])\n",
    "    # ax.xaxis.set_ticklabels(height[i]/256)\n",
    "\n",
    "    #--- Adding CAPE, CIN values\n",
    "    ax2 = fig.add_axes([0.67, 0.5, 0.19, 0.1])\n",
    "    ax2.annotate('CAPE = ' + str(cape) + ' J/kg', xy=(0, 0.5), size='large')\n",
    "    ax2.annotate('CIN = ' + str(cin) + ' J/kg', xy=(0, 0), size='large')\n",
    "    ax2.set_axis_off()\n",
    "\n",
    "    #-- Saving the figure\n",
    "    plt.savefig(save_path + 'sounding_' + station + datetime.datetime.strftime(date, '%Y%m%d%H') + 'UTC.png', dpi=300, transparent=True, bbox_inches='tight')\n",
    "    plt.close()\n",
    "    \n",
    "    return 'Sounding figure for ' + str(date) + ' done!'"
   ]
  },
  {
   "cell_type": "markdown",
   "metadata": {},
   "source": [
    "## Defining path to save the figures, dates and station for the selected cases"
   ]
  },
  {
   "cell_type": "code",
   "execution_count": 5,
   "metadata": {},
   "outputs": [],
   "source": [
    "save_path = 'figures/'\n",
    "\n",
    "cases = [datetime.datetime(2016, 12, 25, 12),   #-- Case 2016-12-25\n",
    "         datetime.datetime(2017, 1, 31, 12),    #-- Case 2017-01-31\n",
    "         datetime.datetime(2017, 3, 14, 12),    #-- Case 2017-03-14\n",
    "         datetime.datetime(2017, 11, 15, 12),   #-- Case 2017-11-15\n",
    "         datetime.datetime(2017, 11, 16, 0)]    #-- Case 2017-11-16 - problem on 12 UTC\n",
    "\n",
    "station = 'SBMT'"
   ]
  },
  {
   "cell_type": "markdown",
   "metadata": {},
   "source": [
    "## Acquiring data"
   ]
  },
  {
   "cell_type": "code",
   "execution_count": 6,
   "metadata": {},
   "outputs": [],
   "source": [
    "soundings = [x for case in cases for x in acquire_sounding_data(case)]"
   ]
  },
  {
   "cell_type": "markdown",
   "metadata": {},
   "source": [
    "## First look at the data"
   ]
  },
  {
   "cell_type": "code",
   "execution_count": 7,
   "metadata": {},
   "outputs": [
    {
     "data": {
      "text/html": [
       "<div>\n",
       "<style scoped>\n",
       "    .dataframe tbody tr th:only-of-type {\n",
       "        vertical-align: middle;\n",
       "    }\n",
       "\n",
       "    .dataframe tbody tr th {\n",
       "        vertical-align: top;\n",
       "    }\n",
       "\n",
       "    .dataframe thead th {\n",
       "        text-align: right;\n",
       "    }\n",
       "</style>\n",
       "<table border=\"1\" class=\"dataframe\">\n",
       "  <thead>\n",
       "    <tr style=\"text-align: right;\">\n",
       "      <th></th>\n",
       "      <th>pressure</th>\n",
       "      <th>height</th>\n",
       "      <th>temperature</th>\n",
       "      <th>dewpoint</th>\n",
       "      <th>direction</th>\n",
       "      <th>speed</th>\n",
       "      <th>u_wind</th>\n",
       "      <th>v_wind</th>\n",
       "      <th>station</th>\n",
       "      <th>station_number</th>\n",
       "      <th>time</th>\n",
       "      <th>latitude</th>\n",
       "      <th>longitude</th>\n",
       "      <th>elevation</th>\n",
       "    </tr>\n",
       "  </thead>\n",
       "  <tbody>\n",
       "    <tr>\n",
       "      <th>0</th>\n",
       "      <td>936.0</td>\n",
       "      <td>722.0</td>\n",
       "      <td>23.6</td>\n",
       "      <td>19.4</td>\n",
       "      <td>50.0</td>\n",
       "      <td>8.0</td>\n",
       "      <td>-6.128356</td>\n",
       "      <td>-5.142301</td>\n",
       "      <td>SBMT</td>\n",
       "      <td>83779</td>\n",
       "      <td>2017-01-31 12:00:00</td>\n",
       "      <td>-23.52</td>\n",
       "      <td>-46.63</td>\n",
       "      <td>722.0</td>\n",
       "    </tr>\n",
       "    <tr>\n",
       "      <th>1</th>\n",
       "      <td>925.0</td>\n",
       "      <td>824.0</td>\n",
       "      <td>21.8</td>\n",
       "      <td>18.5</td>\n",
       "      <td>70.0</td>\n",
       "      <td>7.0</td>\n",
       "      <td>-6.577848</td>\n",
       "      <td>-2.394141</td>\n",
       "      <td>SBMT</td>\n",
       "      <td>83779</td>\n",
       "      <td>2017-01-31 12:00:00</td>\n",
       "      <td>-23.52</td>\n",
       "      <td>-46.63</td>\n",
       "      <td>722.0</td>\n",
       "    </tr>\n",
       "    <tr>\n",
       "      <th>2</th>\n",
       "      <td>884.0</td>\n",
       "      <td>1216.0</td>\n",
       "      <td>18.3</td>\n",
       "      <td>17.4</td>\n",
       "      <td>70.0</td>\n",
       "      <td>15.0</td>\n",
       "      <td>-14.095389</td>\n",
       "      <td>-5.130302</td>\n",
       "      <td>SBMT</td>\n",
       "      <td>83779</td>\n",
       "      <td>2017-01-31 12:00:00</td>\n",
       "      <td>-23.52</td>\n",
       "      <td>-46.63</td>\n",
       "      <td>722.0</td>\n",
       "    </tr>\n",
       "    <tr>\n",
       "      <th>3</th>\n",
       "      <td>878.0</td>\n",
       "      <td>1275.0</td>\n",
       "      <td>17.8</td>\n",
       "      <td>17.2</td>\n",
       "      <td>68.0</td>\n",
       "      <td>17.0</td>\n",
       "      <td>-15.762126</td>\n",
       "      <td>-6.368312</td>\n",
       "      <td>SBMT</td>\n",
       "      <td>83779</td>\n",
       "      <td>2017-01-31 12:00:00</td>\n",
       "      <td>-23.52</td>\n",
       "      <td>-46.63</td>\n",
       "      <td>722.0</td>\n",
       "    </tr>\n",
       "    <tr>\n",
       "      <th>4</th>\n",
       "      <td>872.0</td>\n",
       "      <td>1334.0</td>\n",
       "      <td>18.2</td>\n",
       "      <td>16.2</td>\n",
       "      <td>65.0</td>\n",
       "      <td>20.0</td>\n",
       "      <td>-18.126156</td>\n",
       "      <td>-8.452365</td>\n",
       "      <td>SBMT</td>\n",
       "      <td>83779</td>\n",
       "      <td>2017-01-31 12:00:00</td>\n",
       "      <td>-23.52</td>\n",
       "      <td>-46.63</td>\n",
       "      <td>722.0</td>\n",
       "    </tr>\n",
       "  </tbody>\n",
       "</table>\n",
       "</div>"
      ],
      "text/plain": [
       "   pressure  height  temperature  dewpoint  direction  speed     u_wind  \\\n",
       "0     936.0   722.0         23.6      19.4       50.0    8.0  -6.128356   \n",
       "1     925.0   824.0         21.8      18.5       70.0    7.0  -6.577848   \n",
       "2     884.0  1216.0         18.3      17.4       70.0   15.0 -14.095389   \n",
       "3     878.0  1275.0         17.8      17.2       68.0   17.0 -15.762126   \n",
       "4     872.0  1334.0         18.2      16.2       65.0   20.0 -18.126156   \n",
       "\n",
       "     v_wind station  station_number                time  latitude  longitude  \\\n",
       "0 -5.142301    SBMT           83779 2017-01-31 12:00:00    -23.52     -46.63   \n",
       "1 -2.394141    SBMT           83779 2017-01-31 12:00:00    -23.52     -46.63   \n",
       "2 -5.130302    SBMT           83779 2017-01-31 12:00:00    -23.52     -46.63   \n",
       "3 -6.368312    SBMT           83779 2017-01-31 12:00:00    -23.52     -46.63   \n",
       "4 -8.452365    SBMT           83779 2017-01-31 12:00:00    -23.52     -46.63   \n",
       "\n",
       "   elevation  \n",
       "0      722.0  \n",
       "1      722.0  \n",
       "2      722.0  \n",
       "3      722.0  \n",
       "4      722.0  "
      ]
     },
     "execution_count": 7,
     "metadata": {},
     "output_type": "execute_result"
    }
   ],
   "source": [
    "soundings[0][0:5]"
   ]
  },
  {
   "cell_type": "markdown",
   "metadata": {},
   "source": [
    "## Creating figures"
   ]
  },
  {
   "cell_type": "code",
   "execution_count": 8,
   "metadata": {},
   "outputs": [
    {
     "name": "stderr",
     "output_type": "stream",
     "text": [
      "/home/camila/anaconda2/lib/python2.7/site-packages/metpy/calc/tools.py:161: RuntimeWarning: invalid value encountered in greater\n",
      "  mask = sign_change > 0\n",
      "/home/camila/anaconda2/lib/python2.7/site-packages/metpy/calc/thermo.py:1327: RuntimeWarning: invalid value encountered in greater\n",
      "  keep_idx = np.ediff1d(x, to_end=[1]) > 0\n",
      "/home/camila/anaconda2/lib/python2.7/site-packages/pint/quantity.py:1065: RuntimeWarning: invalid value encountered in less\n",
      "  return op(self._convert_magnitude_not_inplace(UnitsContainer()), other)\n",
      "/home/camila/anaconda2/lib/python2.7/site-packages/pint/quantity.py:1065: RuntimeWarning: invalid value encountered in greater\n",
      "  return op(self._convert_magnitude_not_inplace(UnitsContainer()), other)\n",
      "/home/camila/anaconda2/lib/python2.7/site-packages/pint/quantity.py:1070: RuntimeWarning: invalid value encountered in less\n",
      "  return op(self._magnitude, other._magnitude)\n"
     ]
    },
    {
     "data": {
      "text/plain": [
       "['Sounding figure for 2017-01-31 12:00:00 done!',\n",
       " 'Sounding figure for 2017-01-30 12:00:00 done!',\n",
       " 'Sounding figure for 2017-01-29 12:00:00 done!',\n",
       " 'Sounding figure for 2017-01-28 12:00:00 done!',\n",
       " 'Sounding figure for 2017-03-14 12:00:00 done!',\n",
       " 'Sounding figure for 2017-03-12 12:00:00 done!',\n",
       " 'Sounding figure for 2017-03-11 12:00:00 done!',\n",
       " 'Sounding figure for 2017-11-15 12:00:00 done!',\n",
       " 'Sounding figure for 2017-11-15 00:00:00 done!',\n",
       " 'Sounding figure for 2017-11-14 12:00:00 done!',\n",
       " 'Sounding figure for 2017-11-14 00:00:00 done!',\n",
       " 'Sounding figure for 2017-11-13 00:00:00 done!',\n",
       " 'Sounding figure for 2017-11-12 12:00:00 done!',\n",
       " 'Sounding figure for 2017-11-12 00:00:00 done!',\n",
       " 'Sounding figure for 2017-11-16 00:00:00 done!',\n",
       " 'Sounding figure for 2017-11-15 12:00:00 done!',\n",
       " 'Sounding figure for 2017-11-15 00:00:00 done!',\n",
       " 'Sounding figure for 2017-11-14 12:00:00 done!',\n",
       " 'Sounding figure for 2017-11-14 00:00:00 done!',\n",
       " 'Sounding figure for 2017-11-13 00:00:00 done!',\n",
       " 'Sounding figure for 2017-11-12 12:00:00 done!']"
      ]
     },
     "execution_count": 8,
     "metadata": {},
     "output_type": "execute_result"
    }
   ],
   "source": [
    "[extract_vars_plot_save_figs(data, station, save_path) for data in soundings]"
   ]
  }
 ],
 "metadata": {
  "kernelspec": {
   "display_name": "Python 2",
   "language": "python",
   "name": "python2"
  },
  "language_info": {
   "codemirror_mode": {
    "name": "ipython",
    "version": 2
   },
   "file_extension": ".py",
   "mimetype": "text/x-python",
   "name": "python",
   "nbconvert_exporter": "python",
   "pygments_lexer": "ipython2",
   "version": "2.7.15"
  }
 },
 "nbformat": 4,
 "nbformat_minor": 2
}
