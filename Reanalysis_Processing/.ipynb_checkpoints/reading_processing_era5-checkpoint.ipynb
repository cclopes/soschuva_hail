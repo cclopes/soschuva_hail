{
 "cells": [
  {
   "cell_type": "code",
   "execution_count": 7,
   "metadata": {},
   "outputs": [],
   "source": [
    "import cartopy.crs as ccrs\n",
    "import cartopy.feature as cfeature\n",
    "import matplotlib.pyplot as plt\n",
    "import numpy as np\n",
    "import scipy.ndimage as ndimage\n",
    "import xarray as xr\n",
    "import metpy"
   ]
  },
  {
   "cell_type": "code",
   "execution_count": 2,
   "metadata": {},
   "outputs": [],
   "source": [
    "crs = ccrs.LambertConformal(central_longitude=-57.5, central_latitude=-12.5)"
   ]
  },
  {
   "cell_type": "code",
   "execution_count": 4,
   "metadata": {},
   "outputs": [],
   "source": [
    "def plot_background(ax, extent):\n",
    "    ax.set_extent(extent)\n",
    "    ax.add_feature(cfeature.COASTLINE.with_scale('100m'), linewidth=0.5)\n",
    "    ax.add_feature(cfeature.STATES, linewidth=0.5)\n",
    "    ax.add_feature(cfeature.BORDERS, linewidth=0.5)\n",
    "    return ax"
   ]
  },
  {
   "cell_type": "code",
   "execution_count": 5,
   "metadata": {},
   "outputs": [
    {
     "name": "stdout",
     "output_type": "stream",
     "text": [
      "<xarray.Dataset>\n",
      "Dimensions:    (latitude: 721, level: 10, longitude: 1440, time: 24)\n",
      "Coordinates:\n",
      "  * longitude  (longitude) float32 0.0 0.25 0.5 0.75 1.0 1.25 1.5 1.75 2.0 ...\n",
      "  * latitude   (latitude) float32 90.0 89.75 89.5 89.25 89.0 88.75 88.5 ...\n",
      "  * level      (level) int32 10 100 250 500 700 850 925 950 975 1000\n",
      "  * time       (time) datetime64[ns] 2017-03-14 2017-03-14T01:00:00 ...\n",
      "Data variables:\n",
      "    pv         (time, level, latitude, longitude) float32 ...\n",
      "    crwc       (time, level, latitude, longitude) float32 ...\n",
      "    cswc       (time, level, latitude, longitude) float32 ...\n",
      "    z          (time, level, latitude, longitude) float32 ...\n",
      "    t          (time, level, latitude, longitude) float32 ...\n",
      "    q          (time, level, latitude, longitude) float32 ...\n",
      "    w          (time, level, latitude, longitude) float32 ...\n",
      "    vo         (time, level, latitude, longitude) float32 ...\n",
      "    d          (time, level, latitude, longitude) float32 ...\n",
      "    u          (time, level, latitude, longitude) float32 ...\n",
      "    v          (time, level, latitude, longitude) float32 ...\n",
      "    r          (time, level, latitude, longitude) float32 ...\n",
      "    o3         (time, level, latitude, longitude) float32 ...\n",
      "    clwc       (time, level, latitude, longitude) float32 ...\n",
      "    ciwc       (time, level, latitude, longitude) float32 ...\n",
      "    cc         (time, level, latitude, longitude) float32 ...\n",
      "Attributes:\n",
      "    Conventions:  CF-1.6\n",
      "    history:      2018-08-01 10:58:18 GMT by grib_to_netcdf-2.8.0: grib_to_ne...\n"
     ]
    }
   ],
   "source": [
    "ds = xr.open_dataset(\"../Data/REANALYSIS/ERA5/era5_20170314.nc\")\n",
    "print(ds)"
   ]
  },
  {
   "cell_type": "code",
   "execution_count": 6,
   "metadata": {},
   "outputs": [
    {
     "ename": "AttributeError",
     "evalue": "module 'metpy' has no attribute 'calc'",
     "output_type": "error",
     "traceback": [
      "\u001b[1;31m---------------------------------------------------------------------------\u001b[0m",
      "\u001b[1;31mAttributeError\u001b[0m                            Traceback (most recent call last)",
      "\u001b[1;32m<ipython-input-6-45646a339e6f>\u001b[0m in \u001b[0;36m<module>\u001b[1;34m()\u001b[0m\n\u001b[0;32m      1\u001b[0m \u001b[1;31m#-- Calculating fields\u001b[0m\u001b[1;33m\u001b[0m\u001b[1;33m\u001b[0m\u001b[0m\n\u001b[1;32m----> 2\u001b[1;33m \u001b[0madv_t\u001b[0m \u001b[1;33m=\u001b[0m \u001b[0mmetpy\u001b[0m\u001b[1;33m.\u001b[0m\u001b[0mcalc\u001b[0m\u001b[1;33m.\u001b[0m\u001b[0madvection\u001b[0m\u001b[1;33m(\u001b[0m\u001b[0mds\u001b[0m\u001b[1;33m[\u001b[0m\u001b[1;34m't'\u001b[0m\u001b[1;33m]\u001b[0m\u001b[1;33m,\u001b[0m \u001b[1;33m[\u001b[0m\u001b[0mds\u001b[0m\u001b[1;33m[\u001b[0m\u001b[1;34m'u'\u001b[0m\u001b[1;33m]\u001b[0m\u001b[1;33m,\u001b[0m \u001b[0mds\u001b[0m\u001b[1;33m[\u001b[0m\u001b[1;34m'v'\u001b[0m\u001b[1;33m]\u001b[0m\u001b[1;33m]\u001b[0m\u001b[1;33m,\u001b[0m \u001b[1;33m(\u001b[0m\u001b[1;36m.25\u001b[0m\u001b[1;33m,\u001b[0m \u001b[1;36m.25\u001b[0m\u001b[1;33m,\u001b[0m \u001b[1;36m24\u001b[0m\u001b[1;33m)\u001b[0m\u001b[1;33m)\u001b[0m\u001b[1;33m\u001b[0m\u001b[0m\n\u001b[0m\u001b[0;32m      3\u001b[0m \u001b[0mprint\u001b[0m\u001b[1;33m(\u001b[0m\u001b[0madv_t\u001b[0m\u001b[1;33m)\u001b[0m\u001b[1;33m\u001b[0m\u001b[0m\n",
      "\u001b[1;31mAttributeError\u001b[0m: module 'metpy' has no attribute 'calc'"
     ]
    }
   ],
   "source": [
    "#-- Calculating fields\n",
    "adv_t = metpy.calc.advection(ds['t'], [ds['u'], ds['v']], (.25, .25, 24))\n",
    "print(adv_t)"
   ]
  },
  {
   "cell_type": "code",
   "execution_count": null,
   "metadata": {},
   "outputs": [],
   "source": [
    "metpy."
   ]
  },
  {
   "cell_type": "code",
   "execution_count": null,
   "metadata": {},
   "outputs": [],
   "source": [
    "extent_sa = [-85., -60., -30., 15.] #-- [min lon, min lat, max lon, max lat]\n",
    "fig_type = 'SA'"
   ]
  }
 ],
 "metadata": {
  "kernelspec": {
   "display_name": "Python 3",
   "language": "python",
   "name": "python3"
  },
  "language_info": {
   "codemirror_mode": {
    "name": "ipython",
    "version": 3
   },
   "file_extension": ".py",
   "mimetype": "text/x-python",
   "name": "python",
   "nbconvert_exporter": "python",
   "pygments_lexer": "ipython3",
   "version": "3.6.6"
  }
 },
 "nbformat": 4,
 "nbformat_minor": 2
}
