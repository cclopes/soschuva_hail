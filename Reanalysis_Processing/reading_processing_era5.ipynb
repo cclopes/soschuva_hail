{
 "cells": [
  {
   "cell_type": "code",
   "execution_count": 1,
   "metadata": {},
   "outputs": [],
   "source": [
    "%matplotlib inline"
   ]
  },
  {
   "cell_type": "code",
   "execution_count": 2,
   "metadata": {},
   "outputs": [],
   "source": [
    "import cartopy.crs as ccrs\n",
    "import cartopy.feature as cfeature\n",
    "import matplotlib.pyplot as plt\n",
    "import numpy as np\n",
    "import scipy.ndimage as ndimage\n",
    "import xarray as xr\n",
    "import metpy\n",
    "from netCDF4 import Dataset\n",
    "\n",
    "from metpy.units import units\n",
    "import metpy.calc as mpcalc\n",
    "import scipy.ndimage as ndimage"
   ]
  },
  {
   "cell_type": "code",
   "execution_count": 3,
   "metadata": {},
   "outputs": [],
   "source": [
    "crs = ccrs.LambertConformal(central_longitude=-57.5, central_latitude=-12.5)"
   ]
  },
  {
   "cell_type": "code",
   "execution_count": 4,
   "metadata": {},
   "outputs": [],
   "source": [
    "def plot_background(ax, extent):\n",
    "    ax.set_extent(extent)\n",
    "    ax.add_feature(cfeature.COASTLINE.with_scale('100m'), linewidth=0.5)\n",
    "    ax.add_feature(cfeature.STATES, linewidth=0.5)\n",
    "    ax.add_feature(cfeature.BORDERS, linewidth=0.5)\n",
    "    return ax"
   ]
  },
  {
   "cell_type": "code",
   "execution_count": 5,
   "metadata": {},
   "outputs": [
    {
     "name": "stdout",
     "output_type": "stream",
     "text": [
      "<type 'netCDF4._netCDF4.Dataset'>\n",
      "root group (NETCDF3_64BIT_OFFSET data model, file format NETCDF3):\n",
      "    Conventions: CF-1.6\n",
      "    history: 2018-08-01 10:58:18 GMT by grib_to_netcdf-2.8.0: grib_to_netcdf /data/data05/scratch/12/d4/_mars-atls18-a82bacafb5c306db76464bc7e824bb75-dtWMJ7.grib -o /data/data03/scratch/5b/e4/_grib2netcdf-atls19-98f536083ae965b31b0d04811be6f4c6-r0HjMW.nc -utime\n",
      "    dimensions(sizes): longitude(1440), latitude(721), level(10), time(24)\n",
      "    variables(dimensions): float32 \u001b[4mlongitude\u001b[0m(longitude), float32 \u001b[4mlatitude\u001b[0m(latitude), int32 \u001b[4mlevel\u001b[0m(level), int32 \u001b[4mtime\u001b[0m(time), int16 \u001b[4mpv\u001b[0m(time,level,latitude,longitude), int16 \u001b[4mcrwc\u001b[0m(time,level,latitude,longitude), int16 \u001b[4mcswc\u001b[0m(time,level,latitude,longitude), int16 \u001b[4mz\u001b[0m(time,level,latitude,longitude), int16 \u001b[4mt\u001b[0m(time,level,latitude,longitude), int16 \u001b[4mq\u001b[0m(time,level,latitude,longitude), int16 \u001b[4mw\u001b[0m(time,level,latitude,longitude), int16 \u001b[4mvo\u001b[0m(time,level,latitude,longitude), int16 \u001b[4md\u001b[0m(time,level,latitude,longitude), int16 \u001b[4mu\u001b[0m(time,level,latitude,longitude), int16 \u001b[4mv\u001b[0m(time,level,latitude,longitude), int16 \u001b[4mr\u001b[0m(time,level,latitude,longitude), int16 \u001b[4mo3\u001b[0m(time,level,latitude,longitude), int16 \u001b[4mclwc\u001b[0m(time,level,latitude,longitude), int16 \u001b[4mciwc\u001b[0m(time,level,latitude,longitude), int16 \u001b[4mcc\u001b[0m(time,level,latitude,longitude)\n",
      "    groups: \n",
      "\n"
     ]
    }
   ],
   "source": [
    "ds = Dataset(\"../Data/REANALYSIS/ERA5/era5_20170314.nc\")\n",
    "print(ds)"
   ]
  },
  {
   "cell_type": "code",
   "execution_count": 6,
   "metadata": {},
   "outputs": [],
   "source": [
    "t = ds.variables['t'][:].squeeze() * units.kelvin\n",
    "u = ds.variables['u'][:].squeeze() * units('m/s')\n",
    "v = ds.variables['v'][:].squeeze() * units('m/s')\n",
    "z = ds.variables['z'][:].squeeze() * units.meter\n",
    "lat = ds.variables['latitude'][:].squeeze() #* units.degree\n",
    "lon = (ds.variables['longitude'][:].squeeze() - 180) #* units.degree\n",
    "\n",
    "lon_2d, lat_2d = np.meshgrid(lon, lat)"
   ]
  },
  {
   "cell_type": "code",
   "execution_count": 12,
   "metadata": {},
   "outputs": [
    {
     "name": "stdout",
     "output_type": "stream",
     "text": [
      "[243.0144535 243.0144535 243.0144535 ... 243.0144535 243.0144535 243.0144535] kelvin\n",
      "[243.73685589 243.74301273 243.74916957 ... 243.71838538 243.72454222 243.73069906] kelvin\n"
     ]
    }
   ],
   "source": [
    "print(t[12][5][0])\n",
    "print(t[12][5][1])"
   ]
  },
  {
   "cell_type": "code",
   "execution_count": null,
   "metadata": {},
   "outputs": [],
   "source": [
    "lon"
   ]
  },
  {
   "cell_type": "code",
   "execution_count": null,
   "metadata": {},
   "outputs": [],
   "source": [
    "type(dy)"
   ]
  },
  {
   "cell_type": "code",
   "execution_count": null,
   "metadata": {},
   "outputs": [],
   "source": [
    "type(dx)"
   ]
  },
  {
   "cell_type": "code",
   "execution_count": 17,
   "metadata": {},
   "outputs": [
    {
     "name": "stdout",
     "output_type": "stream",
     "text": [
      "[[11215.40972935 11215.43917617 11215.49490517 ... 11214.15041772  11214.33724358 11214.43561212] [11223.24637914 11223.27814549 11223.3386902  ... 11221.92649525  11222.12233571 11222.22574072] [11237.69671422 11237.73184425 11237.79953036 ... 11236.28919962  11236.49939828 11236.61085224] ... [12455.20696418 12455.18785065 12455.1487182  ... 12455.38851108  12455.37213359 12455.36544984] [12452.41854826 12452.4032877  12452.37096084 ... 12452.53221958  12452.51259044 12452.50464874] [12450.70710122 12450.69328726 12450.66342385 ... 12450.79717087  12450.77437409 12450.76502088]] meter\n",
      "[-5.57761075e-04 -5.56510775e-04 -5.54427971e-04 ...  2.32248937e-05  2.63580835e-05  2.82039653e-05] kelvin / second\n"
     ]
    }
   ],
   "source": [
    "#-- Calculating fields\n",
    "dx, dy = mpcalc.lat_lon_grid_deltas(lon, lat)\n",
    "dy *= -1\n",
    "\n",
    "adv_t_850 = mpcalc.advection(t[12][5], [u[12][5], v[12][5]], (dx, dy), dim_order='yx')\n",
    "adv_t_850 = adv_t_850[:][~np.isnan(adv_t_850)]\n",
    "z_850 = ndimage.gaussian_filter(z[12][5], sigma=3, order=0) * units.meter\n",
    "adv_t_850 = ndimage.gaussian_filter(adv_t_850, sigma=3, order=0) * units('K/sec')\n",
    "print(z_850)\n",
    "print(adv_t_850)"
   ]
  },
  {
   "cell_type": "code",
   "execution_count": null,
   "metadata": {},
   "outputs": [],
   "source": [
    "extent_sa = [-85., -60., -30., 15.] #-- [min lon, min lat, max lon, max lat]\n",
    "fig_type = 'SA'"
   ]
  }
 ],
 "metadata": {
  "kernelspec": {
   "display_name": "Python 3",
   "language": "python",
   "name": "python3"
  },
  "language_info": {
   "codemirror_mode": {
    "name": "ipython",
    "version": 2
   },
   "file_extension": ".py",
   "mimetype": "text/x-python",
   "name": "python",
   "nbconvert_exporter": "python",
   "pygments_lexer": "ipython2",
   "version": "2.7.15"
  }
 },
 "nbformat": 4,
 "nbformat_minor": 2
}
