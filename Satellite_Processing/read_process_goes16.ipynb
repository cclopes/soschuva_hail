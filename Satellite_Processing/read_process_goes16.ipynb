{
 "cells": [
  {
   "cell_type": "markdown",
   "metadata": {},
   "source": [
    "# GOES-16 Data\n",
    "\n",
    "- Reading NetCDF files with a remapping function (`remap`)\n",
    "    - Cases (up to two days earlier):\n",
    "        - 2017-03-14\n",
    "        - 2017-11-15\n",
    "        - 2017-11-16\n",
    "  \n",
    "  \n",
    "- Plotting data with `Basemap`\n",
    "  \n",
    "Based on [GEONETClass: Manipulating GOES-16 Data Wth Python (GNC-A)](https://geonetcast.wordpress.com/2017/04/27/geonetclass-manipulating-goes-16-data-with-python-part-i/)."
   ]
  },
  {
   "cell_type": "markdown",
   "metadata": {},
   "source": [
    "## Loading necessary packages"
   ]
  },
  {
   "cell_type": "code",
   "execution_count": 1,
   "metadata": {},
   "outputs": [],
   "source": [
    "import matplotlib.pyplot as plt\n",
    "from netCDF4 import Dataset\n",
    "from mpl_toolkits.basemap import Basemap\n",
    "import numpy as np\n",
    "from datetime import datetime\n",
    "\n",
    "from remap import remap\n",
    "\n",
    "from cpt_convert import loadCPT\n",
    "from matplotlib.colors import LinearSegmentedColormap\n",
    "\n",
    "from extracting_band_info import extract_band_info"
   ]
  },
  {
   "cell_type": "markdown",
   "metadata": {},
   "source": [
    "## Defining necessary functions"
   ]
  },
  {
   "cell_type": "markdown",
   "metadata": {},
   "source": [
    "### `get_info_file`\n",
    "\n",
    "Using the name of the NetCDF file (*filename*), extract:\n",
    "\n",
    "- According to the band:\n",
    "    - *band_unit*, unit of the variable to be shown on the plot\n",
    "    - *band_conversion*, value to be added to convert from Kelvin to Celsius, if necessary\n",
    "    - *band_cpt*, color palette of the variable for the plot\n",
    "    - *band_minvalue*, minimum value of the variable for the plot\n",
    "    - *band_maxvalue*, maximum value of the variable for the plot\n",
    "- *title*, string to be used on the plot title\n",
    "- *name*, string to define the name of the saved figure"
   ]
  },
  {
   "cell_type": "code",
   "execution_count": 7,
   "metadata": {},
   "outputs": [],
   "source": [
    "def get_info_file(filename, fig_type):\n",
    "    print('Getting info from ' + filename)\n",
    "    \n",
    "    band = (filename[filename.find('M3C') + 3:filename.find('_G16')])\n",
    "    band_cw, band_unit, band_conversion, band_cpt, band_minvalue, band_maxvalue = extract_band_info(band)\n",
    "    \n",
    "    start_timestamp = (filename[filename.find('_s') + 2:filename.find('_e')])\n",
    "    start_timestamp = datetime.strptime(start_timestamp[:13], '%Y%j%H%M%S')\n",
    "    end_timestamp = (filename[filename.find('_e') + 2:filename.find('_c')])\n",
    "    end_timestamp = datetime.strptime(end_timestamp[:13], '%Y%j%H%M%S')\n",
    "    \n",
    "    title = 'GOES-16 ABI Band ' + band + ' ' + band_cw.decode(\"utf-8\") + '\\n Scan from ' + str(start_timestamp) + ' to ' + str(end_timestamp.time()) + ' UTC'\n",
    "    name = 'Band_' + band + '/GOES16_B'+ band + '_' + fig_type + '_SD' + datetime.strftime(start_timestamp, '%Y%m%d%H%M') + '.png'\n",
    "    \n",
    "    return band_unit, band_conversion, band_cpt, band_minvalue, band_maxvalue, title, name"
   ]
  },
  {
   "cell_type": "markdown",
   "metadata": {},
   "source": [
    "### `read_define_bounds_netcdf`\n",
    "\n",
    "Using the NetCDF file:\n",
    "\n",
    "- Read with `ncdf4` to extract information about the data extent\n",
    "- Regrid to rectangular projection using `remap`\n",
    "\n",
    "**ATTENTION: If the files are from the Operational Mode (starting December 2017), `remap.py` should be altered! (line 15)**"
   ]
  },
  {
   "cell_type": "code",
   "execution_count": 3,
   "metadata": {},
   "outputs": [],
   "source": [
    "def read_define_bounds_netcdf(file, band_conversion, extent):\n",
    "    print('Reading NetCDF file ' + file)\n",
    "    \n",
    "    nc = Dataset(file)\n",
    " \n",
    "    #-- Visualization extent for Full Disk\n",
    "    # geo_extent = nc.variables['geospatial_lat_lon_extent']\n",
    "    # min_lon = float(geo_extent.geospatial_westbound_longitude)\n",
    "    # max_lon = float(geo_extent.geospatial_eastbound_longitude)\n",
    "    # min_lat = float(geo_extent.geospatial_southbound_latitude)\n",
    "    # max_lat = float(geo_extent.geospatial_northbound_latitude)\n",
    "    # extent = [min_lon, min_lat, max_lon, max_lat]\n",
    "    \n",
    "    resolution = 2\n",
    " \n",
    "    #-- Image extent required for the reprojection\n",
    "    H = nc.variables['goes_imager_projection'].perspective_point_height\n",
    "    x1 = nc.variables['x_image_bounds'][0] * H # x1 = -5434894.885056 \n",
    "    x2 = nc.variables['x_image_bounds'][1] * H # x2 = 5434894.885056\n",
    "    y1 = nc.variables['y_image_bounds'][1] * H # y1 = -5434894.885056\n",
    "    y2 = nc.variables['y_image_bounds'][0] * H # y2 = 5434894.885056\n",
    "    grid = remap(file, extent, resolution, x1, y1, x2, y2) \n",
    "    \n",
    "    data = grid.ReadAsArray() + band_conversion\n",
    "    \n",
    "    return data, extent"
   ]
  },
  {
   "cell_type": "markdown",
   "metadata": {},
   "source": [
    "### `plot_save_figure`\n",
    "\n",
    "Using data and derived variables:\n",
    "\n",
    "- Plot using shapefiles *ne_10m_admin_0_countries* (global) and *estadosl_2007* (Brazilian states), as well as pre-defined spacing according to image boundaries (*grid_spacing*)\n",
    "- Save the resulting figure with transparent background"
   ]
  },
  {
   "cell_type": "code",
   "execution_count": 4,
   "metadata": {},
   "outputs": [],
   "source": [
    "def plot_save_figure(data, extent, shapefile, grid_spacing, cpt, min_value, max_value, title, band_unit, name):\n",
    "    fig = plt.figure(figsize=(5, 6))\n",
    "    fig.set_facecolor('w')\n",
    "    ax = fig.add_subplot(111)\n",
    "\n",
    "    bmap = Basemap(llcrnrlon=extent[0], llcrnrlat=extent[1], urcrnrlon=extent[2], urcrnrlat=extent[3], epsg=4326)\n",
    "\n",
    "    bmap.readshapefile(shapefile + 'ne_10m_admin_0_countries', 'ne_10m_admin_0_countries', linewidth=0.5, color='darkslategray')\n",
    "    bmap.readshapefile(shapefile + 'estadosl_2007', 'estadosl_2007', linewidth=0.3, color='darkslategray')\n",
    "    bmap.drawparallels(np.arange(-90.0, 90.0, grid_spacing), linewidth=0.25, color='white', labels=[True,False,False,True])\n",
    "    bmap.drawmeridians(np.arange(0.0, 360.0, grid_spacing), linewidth=0.25, color='white', labels=[True,False,False,True])\n",
    "\n",
    "    cpt_convert = LinearSegmentedColormap('cpt', cpt)\n",
    "\n",
    "    bmap.imshow(data, origin='upper', cmap=cpt_convert, vmin=min_value, vmax=max_value)\n",
    "\n",
    "    plt.title(title, weight='bold', stretch='condensed', size='large')\n",
    "    bmap.colorbar(location='right', label=band_unit)\n",
    "    \n",
    "    print('Saving figure in ' + name)\n",
    "    plt.savefig(name, dpi=300, transparent=True, bbox_inches='tight')\n",
    "    plt.close()\n",
    "    \n",
    "    return '--------------------------------------------------------------------------------------------------------------'"
   ]
  },
  {
   "cell_type": "markdown",
   "metadata": {},
   "source": [
    "## Defining filepaths and custom variables"
   ]
  },
  {
   "cell_type": "code",
   "execution_count": 15,
   "metadata": {},
   "outputs": [
    {
     "name": "stdout",
     "output_type": "stream",
     "text": [
      "filenames length is: 10729\n"
     ]
    }
   ],
   "source": [
    "shapefile_path = \"../Data/GENERAL/shapefiles/\"\n",
    "files_path = \"../Data/SATELLITE/GOES16/level_2/2017/\"\n",
    "save_path = \"figures/\"\n",
    "\n",
    "filenames = open(\"g16_filenames.txt\").read().split('\\n')[:-1]\n",
    "\n",
    "#-- Custom visualization extent and grid spacing\n",
    "#-- South America\n",
    "extent = [-85., -60., -30., 15.] #-- [min lon, min lat, max lon, max lat]\n",
    "grid_spacing = 10.0\n",
    "fig_type = 'SA'\n",
    "\n",
    "#-- SP Brazil\n",
    "#extent = [-54., -27., -43., -18.] #-- [min lon, min lat, max lon, max lat]\n",
    "#grid_spacing = 2.0\n",
    "#fig_type = 'SP-BR'\n",
    "\n",
    "print('filenames length is: ' + str(len(filenames)))"
   ]
  },
  {
   "cell_type": "markdown",
   "metadata": {},
   "source": [
    "## Processing all the files in *filenames*\n",
    "\n",
    "Doing in small parts because Jupyter can't process large `for`"
   ]
  },
  {
   "cell_type": "code",
   "execution_count": 14,
   "metadata": {},
   "outputs": [
    {
     "name": "stdout",
     "output_type": "stream",
     "text": [
      "Getting info from OR_ABI-L2-CMIPF-M3C01_G16_s20170710000027_e20170710010394_c20170710010461.nc\n",
      "Reading NetCDF file ../Data/SATELLITE/GOES16/level_2/2017/OR_ABI-L2-CMIPF-M3C01_G16_s20170710000027_e20170710010394_c20170710010461.nc\n",
      "Remapping ../Data/SATELLITE/GOES16/level_2/2017/OR_ABI-L2-CMIPF-M3C01_G16_s20170710000027_e20170710010394_c20170710010461.nc\n",
      "- finished! Time: 0.291497945786 seconds\n",
      "Saving figure in figures/Band_01/GOES16_B01_SE-BR_SD201703120000.png\n",
      "Getting info from OR_ABI-L2-CMIPF-M3C01_G16_s20170710015027_e20170710025394_c20170710025466.nc\n",
      "Reading NetCDF file ../Data/SATELLITE/GOES16/level_2/2017/OR_ABI-L2-CMIPF-M3C01_G16_s20170710015027_e20170710025394_c20170710025466.nc\n",
      "Remapping ../Data/SATELLITE/GOES16/level_2/2017/OR_ABI-L2-CMIPF-M3C01_G16_s20170710015027_e20170710025394_c20170710025466.nc\n",
      "- finished! Time: 0.0352129936218 seconds\n",
      "Saving figure in figures/Band_01/GOES16_B01_SE-BR_SD201703120015.png\n"
     ]
    }
   ],
   "source": [
    "for filename in filenames[:200]:\n",
    "    unit, conversion, cpt, minvalue, maxvalue, fig_title, fig_name = get_info_file(filename, fig_type)\n",
    "    \n",
    "    sat_data, extent = read_define_bounds_netcdf(files_path + filename, conversion, extent)\n",
    "    \n",
    "    plot_save_figure(sat_data, extent, shapefile_path, grid_spacing, cpt, minvalue, maxvalue, fig_title, unit, save_path + fig_name) "
   ]
  },
  {
   "cell_type": "code",
   "execution_count": null,
   "metadata": {},
   "outputs": [],
   "source": [
    "for filename in filenames[200:400]:\n",
    "    unit, conversion, cpt, minvalue, maxvalue, fig_title, fig_name = get_info_file(filename, fig_type)\n",
    "    \n",
    "    sat_data, extent = read_define_bounds_netcdf(files_path + filename, conversion, extent)\n",
    "    \n",
    "    plot_save_figure(sat_data, extent, shapefile_path, grid_spacing, cpt, minvalue, maxvalue, fig_title, unit, save_path + fig_name) "
   ]
  },
  {
   "cell_type": "code",
   "execution_count": null,
   "metadata": {},
   "outputs": [],
   "source": [
    "for filename in filenames[400:600]:\n",
    "    unit, conversion, cpt, minvalue, maxvalue, fig_title, fig_name = get_info_file(filename, fig_type)\n",
    "    \n",
    "    sat_data, extent = read_define_bounds_netcdf(files_path + filename, conversion, extent)\n",
    "    \n",
    "    plot_save_figure(sat_data, extent, shapefile_path, grid_spacing, cpt, minvalue, maxvalue, fig_title, unit, save_path + fig_name) "
   ]
  },
  {
   "cell_type": "code",
   "execution_count": null,
   "metadata": {},
   "outputs": [],
   "source": [
    "for filename in filenames[600:800]:\n",
    "    unit, conversion, cpt, minvalue, maxvalue, fig_title, fig_name = get_info_file(filename, fig_type)\n",
    "    \n",
    "    sat_data, extent = read_define_bounds_netcdf(files_path + filename, conversion, extent)\n",
    "    \n",
    "    plot_save_figure(sat_data, extent, shapefile_path, grid_spacing, cpt, minvalue, maxvalue, fig_title, unit, save_path + fig_name)"
   ]
  },
  {
   "cell_type": "code",
   "execution_count": null,
   "metadata": {},
   "outputs": [],
   "source": [
    "for filename in filenames[800:1000]:\n",
    "    unit, conversion, cpt, minvalue, maxvalue, fig_title, fig_name = get_info_file(filename, fig_type)\n",
    "    \n",
    "    sat_data, extent = read_define_bounds_netcdf(files_path + filename, conversion, extent)\n",
    "    \n",
    "    plot_save_figure(sat_data, extent, shapefile_path, grid_spacing, cpt, minvalue, maxvalue, fig_title, unit, save_path + fig_name) "
   ]
  },
  {
   "cell_type": "code",
   "execution_count": null,
   "metadata": {},
   "outputs": [],
   "source": [
    "for filename in filenames[1000:1200]:\n",
    "    unit, conversion, cpt, minvalue, maxvalue, fig_title, fig_name = get_info_file(filename, fig_type)\n",
    "    \n",
    "    sat_data, extent = read_define_bounds_netcdf(files_path + filename, conversion, extent)\n",
    "    \n",
    "    plot_save_figure(sat_data, extent, shapefile_path, grid_spacing, cpt, minvalue, maxvalue, fig_title, unit, save_path + fig_name) "
   ]
  },
  {
   "cell_type": "code",
   "execution_count": null,
   "metadata": {},
   "outputs": [],
   "source": [
    "for filename in filenames[1200:1400]:\n",
    "    unit, conversion, cpt, minvalue, maxvalue, fig_title, fig_name = get_info_file(filename, fig_type)\n",
    "    \n",
    "    sat_data, extent = read_define_bounds_netcdf(files_path + filename, conversion, extent)\n",
    "    \n",
    "    plot_save_figure(sat_data, extent, shapefile_path, grid_spacing, cpt, minvalue, maxvalue, fig_title, unit, save_path + fig_name) "
   ]
  },
  {
   "cell_type": "code",
   "execution_count": null,
   "metadata": {},
   "outputs": [],
   "source": [
    "for filename in filenames[1400:1600]:\n",
    "    unit, conversion, cpt, minvalue, maxvalue, fig_title, fig_name = get_info_file(filename, fig_type)\n",
    "    \n",
    "    sat_data, extent = read_define_bounds_netcdf(files_path + filename, conversion, extent)\n",
    "    \n",
    "    plot_save_figure(sat_data, extent, shapefile_path, grid_spacing, cpt, minvalue, maxvalue, fig_title, unit, save_path + fig_name) "
   ]
  },
  {
   "cell_type": "code",
   "execution_count": null,
   "metadata": {},
   "outputs": [],
   "source": [
    "for filename in filenames[1600:1800]:\n",
    "    unit, conversion, cpt, minvalue, maxvalue, fig_title, fig_name = get_info_file(filename, fig_type)\n",
    "    \n",
    "    sat_data, extent = read_define_bounds_netcdf(files_path + filename, conversion, extent)\n",
    "    \n",
    "    plot_save_figure(sat_data, extent, shapefile_path, grid_spacing, cpt, minvalue, maxvalue, fig_title, unit, save_path + fig_name) "
   ]
  },
  {
   "cell_type": "code",
   "execution_count": null,
   "metadata": {},
   "outputs": [],
   "source": [
    "for filename in filenames[1800:2000]:\n",
    "    unit, conversion, cpt, minvalue, maxvalue, fig_title, fig_name = get_info_file(filename, fig_type)\n",
    "    \n",
    "    sat_data, extent = read_define_bounds_netcdf(files_path + filename, conversion, extent)\n",
    "    \n",
    "    plot_save_figure(sat_data, extent, shapefile_path, grid_spacing, cpt, minvalue, maxvalue, fig_title, unit, save_path + fig_name) "
   ]
  },
  {
   "cell_type": "code",
   "execution_count": null,
   "metadata": {},
   "outputs": [],
   "source": [
    "for filename in filenames[2000:2200]:\n",
    "    unit, conversion, cpt, minvalue, maxvalue, fig_title, fig_name = get_info_file(filename, fig_type)\n",
    "    \n",
    "    sat_data, extent = read_define_bounds_netcdf(files_path + filename, conversion, extent)\n",
    "    \n",
    "    plot_save_figure(sat_data, extent, shapefile_path, grid_spacing, cpt, minvalue, maxvalue, fig_title, unit, save_path + fig_name) "
   ]
  },
  {
   "cell_type": "code",
   "execution_count": null,
   "metadata": {},
   "outputs": [],
   "source": [
    "for filename in filenames[2200:2400]:\n",
    "    unit, conversion, cpt, minvalue, maxvalue, fig_title, fig_name = get_info_file(filename, fig_type)\n",
    "    \n",
    "    sat_data, extent = read_define_bounds_netcdf(files_path + filename, conversion, extent)\n",
    "    \n",
    "    plot_save_figure(sat_data, extent, shapefile_path, grid_spacing, cpt, minvalue, maxvalue, fig_title, unit, save_path + fig_name) "
   ]
  },
  {
   "cell_type": "code",
   "execution_count": null,
   "metadata": {},
   "outputs": [],
   "source": [
    "for filename in filenames[2400:2600]:\n",
    "    unit, conversion, cpt, minvalue, maxvalue, fig_title, fig_name = get_info_file(filename, fig_type)\n",
    "    \n",
    "    sat_data, extent = read_define_bounds_netcdf(files_path + filename, conversion, extent)\n",
    "    \n",
    "    plot_save_figure(sat_data, extent, shapefile_path, grid_spacing, cpt, minvalue, maxvalue, fig_title, unit, save_path + fig_name) "
   ]
  },
  {
   "cell_type": "code",
   "execution_count": null,
   "metadata": {},
   "outputs": [],
   "source": [
    "for filename in filenames[2600:2800]:\n",
    "    unit, conversion, cpt, minvalue, maxvalue, fig_title, fig_name = get_info_file(filename, fig_type)\n",
    "    \n",
    "    sat_data, extent = read_define_bounds_netcdf(files_path + filename, conversion, extent)\n",
    "    \n",
    "    plot_save_figure(sat_data, extent, shapefile_path, grid_spacing, cpt, minvalue, maxvalue, fig_title, unit, save_path + fig_name) "
   ]
  },
  {
   "cell_type": "code",
   "execution_count": null,
   "metadata": {},
   "outputs": [],
   "source": [
    "for filename in filenames[2800:3000]:\n",
    "    unit, conversion, cpt, minvalue, maxvalue, fig_title, fig_name = get_info_file(filename, fig_type)\n",
    "    \n",
    "    sat_data, extent = read_define_bounds_netcdf(files_path + filename, conversion, extent)\n",
    "    \n",
    "    plot_save_figure(sat_data, extent, shapefile_path, grid_spacing, cpt, minvalue, maxvalue, fig_title, unit, save_path + fig_name) "
   ]
  },
  {
   "cell_type": "code",
   "execution_count": null,
   "metadata": {},
   "outputs": [],
   "source": [
    "for filename in filenames[3000:3200]:\n",
    "    unit, conversion, cpt, minvalue, maxvalue, fig_title, fig_name = get_info_file(filename, fig_type)\n",
    "    \n",
    "    sat_data, extent = read_define_bounds_netcdf(files_path + filename, conversion, extent)\n",
    "    \n",
    "    plot_save_figure(sat_data, extent, shapefile_path, grid_spacing, cpt, minvalue, maxvalue, fig_title, unit, save_path + fig_name) "
   ]
  },
  {
   "cell_type": "code",
   "execution_count": null,
   "metadata": {},
   "outputs": [],
   "source": [
    "for filename in filenames[3200:3400]:\n",
    "    unit, conversion, cpt, minvalue, maxvalue, fig_title, fig_name = get_info_file(filename, fig_type)\n",
    "    \n",
    "    sat_data, extent = read_define_bounds_netcdf(files_path + filename, conversion, extent)\n",
    "    \n",
    "    plot_save_figure(sat_data, extent, shapefile_path, grid_spacing, cpt, minvalue, maxvalue, fig_title, unit, save_path + fig_name) "
   ]
  },
  {
   "cell_type": "code",
   "execution_count": null,
   "metadata": {},
   "outputs": [],
   "source": [
    "for filename in filenames[3400:3600]:\n",
    "    unit, conversion, cpt, minvalue, maxvalue, fig_title, fig_name = get_info_file(filename, fig_type)\n",
    "    \n",
    "    sat_data, extent = read_define_bounds_netcdf(files_path + filename, conversion, extent)\n",
    "    \n",
    "    plot_save_figure(sat_data, extent, shapefile_path, grid_spacing, cpt, minvalue, maxvalue, fig_title, unit, save_path + fig_name)"
   ]
  },
  {
   "cell_type": "code",
   "execution_count": null,
   "metadata": {},
   "outputs": [],
   "source": [
    "for filename in filenames[3600:3800]:\n",
    "    unit, conversion, cpt, minvalue, maxvalue, fig_title, fig_name = get_info_file(filename, fig_type)\n",
    "    \n",
    "    sat_data, extent = read_define_bounds_netcdf(files_path + filename, conversion, extent)\n",
    "    \n",
    "    plot_save_figure(sat_data, extent, shapefile_path, grid_spacing, cpt, minvalue, maxvalue, fig_title, unit, save_path + fig_name) "
   ]
  },
  {
   "cell_type": "code",
   "execution_count": null,
   "metadata": {},
   "outputs": [],
   "source": [
    "for filename in filenames[3800:4000]:\n",
    "    unit, conversion, cpt, minvalue, maxvalue, fig_title, fig_name = get_info_file(filename, fig_type)\n",
    "    \n",
    "    sat_data, extent = read_define_bounds_netcdf(files_path + filename, conversion, extent)\n",
    "    \n",
    "    plot_save_figure(sat_data, extent, shapefile_path, grid_spacing, cpt, minvalue, maxvalue, fig_title, unit, save_path + fig_name) "
   ]
  },
  {
   "cell_type": "code",
   "execution_count": null,
   "metadata": {},
   "outputs": [],
   "source": [
    "for filename in filenames[4000:4200]:\n",
    "    unit, conversion, cpt, minvalue, maxvalue, fig_title, fig_name = get_info_file(filename, fig_type)\n",
    "    \n",
    "    sat_data, extent = read_define_bounds_netcdf(files_path + filename, conversion, extent)\n",
    "    \n",
    "    plot_save_figure(sat_data, extent, shapefile_path, grid_spacing, cpt, minvalue, maxvalue, fig_title, unit, save_path + fig_name) "
   ]
  },
  {
   "cell_type": "code",
   "execution_count": null,
   "metadata": {},
   "outputs": [],
   "source": [
    "for filename in filenames[4200:4400]:\n",
    "    unit, conversion, cpt, minvalue, maxvalue, fig_title, fig_name = get_info_file(filename, fig_type)\n",
    "    \n",
    "    sat_data, extent = read_define_bounds_netcdf(files_path + filename, conversion, extent)\n",
    "    \n",
    "    plot_save_figure(sat_data, extent, shapefile_path, grid_spacing, cpt, minvalue, maxvalue, fig_title, unit, save_path + fig_name) "
   ]
  },
  {
   "cell_type": "code",
   "execution_count": null,
   "metadata": {},
   "outputs": [],
   "source": [
    "for filename in filenames[4400:4600]:\n",
    "    unit, conversion, cpt, minvalue, maxvalue, fig_title, fig_name = get_info_file(filename, fig_type)\n",
    "    \n",
    "    sat_data, extent = read_define_bounds_netcdf(files_path + filename, conversion, extent)\n",
    "    \n",
    "    plot_save_figure(sat_data, extent, shapefile_path, grid_spacing, cpt, minvalue, maxvalue, fig_title, unit, save_path + fig_name) "
   ]
  },
  {
   "cell_type": "code",
   "execution_count": null,
   "metadata": {},
   "outputs": [],
   "source": [
    "for filename in filenames[4600:4800]:\n",
    "    unit, conversion, cpt, minvalue, maxvalue, fig_title, fig_name = get_info_file(filename, fig_type)\n",
    "    \n",
    "    sat_data, extent = read_define_bounds_netcdf(files_path + filename, conversion, extent)\n",
    "    \n",
    "    plot_save_figure(sat_data, extent, shapefile_path, grid_spacing, cpt, minvalue, maxvalue, fig_title, unit, save_path + fig_name) "
   ]
  },
  {
   "cell_type": "code",
   "execution_count": null,
   "metadata": {},
   "outputs": [],
   "source": [
    "for filename in filenames[4800:5000]:\n",
    "    unit, conversion, cpt, minvalue, maxvalue, fig_title, fig_name = get_info_file(filename, fig_type)\n",
    "    \n",
    "    sat_data, extent = read_define_bounds_netcdf(files_path + filename, conversion, extent)\n",
    "    \n",
    "    plot_save_figure(sat_data, extent, shapefile_path, grid_spacing, cpt, minvalue, maxvalue, fig_title, unit, save_path + fig_name) "
   ]
  },
  {
   "cell_type": "code",
   "execution_count": null,
   "metadata": {},
   "outputs": [],
   "source": [
    "for filename in filenames[5000:5200]:\n",
    "    unit, conversion, cpt, minvalue, maxvalue, fig_title, fig_name = get_info_file(filename, fig_type)\n",
    "    \n",
    "    sat_data, extent = read_define_bounds_netcdf(files_path + filename, conversion, extent)\n",
    "    \n",
    "    plot_save_figure(sat_data, extent, shapefile_path, grid_spacing, cpt, minvalue, maxvalue, fig_title, unit, save_path + fig_name) "
   ]
  },
  {
   "cell_type": "code",
   "execution_count": null,
   "metadata": {},
   "outputs": [],
   "source": [
    "for filename in filenames[5200:5400]:\n",
    "    unit, conversion, cpt, minvalue, maxvalue, fig_title, fig_name = get_info_file(filename, fig_type)\n",
    "    \n",
    "    sat_data, extent = read_define_bounds_netcdf(files_path + filename, conversion, extent)\n",
    "    \n",
    "    plot_save_figure(sat_data, extent, shapefile_path, grid_spacing, cpt, minvalue, maxvalue, fig_title, unit, save_path + fig_name) "
   ]
  },
  {
   "cell_type": "code",
   "execution_count": null,
   "metadata": {},
   "outputs": [],
   "source": [
    "for filename in filenames[5400:5600]:\n",
    "    unit, conversion, cpt, minvalue, maxvalue, fig_title, fig_name = get_info_file(filename, fig_type)\n",
    "    \n",
    "    sat_data, extent = read_define_bounds_netcdf(files_path + filename, conversion, extent)\n",
    "    \n",
    "    plot_save_figure(sat_data, extent, shapefile_path, grid_spacing, cpt, minvalue, maxvalue, fig_title, unit, save_path + fig_name) "
   ]
  },
  {
   "cell_type": "code",
   "execution_count": null,
   "metadata": {},
   "outputs": [],
   "source": [
    "for filename in filenames[5600:5800]:\n",
    "    unit, conversion, cpt, minvalue, maxvalue, fig_title, fig_name = get_info_file(filename, fig_type)\n",
    "    \n",
    "    sat_data, extent = read_define_bounds_netcdf(files_path + filename, conversion, extent)\n",
    "    \n",
    "    plot_save_figure(sat_data, extent, shapefile_path, grid_spacing, cpt, minvalue, maxvalue, fig_title, unit, save_path + fig_name) "
   ]
  },
  {
   "cell_type": "code",
   "execution_count": null,
   "metadata": {},
   "outputs": [],
   "source": [
    "for filename in filenames[5800:6000]:\n",
    "    unit, conversion, cpt, minvalue, maxvalue, fig_title, fig_name = get_info_file(filename, fig_type)\n",
    "    \n",
    "    sat_data, extent = read_define_bounds_netcdf(files_path + filename, conversion, extent)\n",
    "    \n",
    "    plot_save_figure(sat_data, extent, shapefile_path, grid_spacing, cpt, minvalue, maxvalue, fig_title, unit, save_path + fig_name) "
   ]
  },
  {
   "cell_type": "code",
   "execution_count": null,
   "metadata": {},
   "outputs": [],
   "source": [
    "for filename in filenames[6000:6200]:\n",
    "    unit, conversion, cpt, minvalue, maxvalue, fig_title, fig_name = get_info_file(filename, fig_type)\n",
    "    \n",
    "    sat_data, extent = read_define_bounds_netcdf(files_path + filename, conversion, extent)\n",
    "    \n",
    "    plot_save_figure(sat_data, extent, shapefile_path, grid_spacing, cpt, minvalue, maxvalue, fig_title, unit, save_path + fig_name) "
   ]
  },
  {
   "cell_type": "code",
   "execution_count": null,
   "metadata": {},
   "outputs": [],
   "source": [
    "for filename in filenames[6200:6400]:\n",
    "    unit, conversion, cpt, minvalue, maxvalue, fig_title, fig_name = get_info_file(filename, fig_type)\n",
    "    \n",
    "    sat_data, extent = read_define_bounds_netcdf(files_path + filename, conversion, extent)\n",
    "    \n",
    "    plot_save_figure(sat_data, extent, shapefile_path, grid_spacing, cpt, minvalue, maxvalue, fig_title, unit, save_path + fig_name) "
   ]
  },
  {
   "cell_type": "code",
   "execution_count": null,
   "metadata": {},
   "outputs": [],
   "source": [
    "for filename in filenames[6400:6600]:\n",
    "    unit, conversion, cpt, minvalue, maxvalue, fig_title, fig_name = get_info_file(filename, fig_type)\n",
    "    \n",
    "    sat_data, extent = read_define_bounds_netcdf(files_path + filename, conversion, extent)\n",
    "    \n",
    "    plot_save_figure(sat_data, extent, shapefile_path, grid_spacing, cpt, minvalue, maxvalue, fig_title, unit, save_path + fig_name) "
   ]
  },
  {
   "cell_type": "code",
   "execution_count": null,
   "metadata": {},
   "outputs": [],
   "source": [
    "for filename in filenames[6600:6800]:\n",
    "    unit, conversion, cpt, minvalue, maxvalue, fig_title, fig_name = get_info_file(filename, fig_type)\n",
    "    \n",
    "    sat_data, extent = read_define_bounds_netcdf(files_path + filename, conversion, extent)\n",
    "    \n",
    "    plot_save_figure(sat_data, extent, shapefile_path, grid_spacing, cpt, minvalue, maxvalue, fig_title, unit, save_path + fig_name) "
   ]
  },
  {
   "cell_type": "code",
   "execution_count": null,
   "metadata": {},
   "outputs": [],
   "source": [
    "for filename in filenames[6800:7000]:\n",
    "    unit, conversion, cpt, minvalue, maxvalue, fig_title, fig_name = get_info_file(filename, fig_type)\n",
    "    \n",
    "    sat_data, extent = read_define_bounds_netcdf(files_path + filename, conversion, extent)\n",
    "    \n",
    "    plot_save_figure(sat_data, extent, shapefile_path, grid_spacing, cpt, minvalue, maxvalue, fig_title, unit, save_path + fig_name) "
   ]
  },
  {
   "cell_type": "code",
   "execution_count": null,
   "metadata": {},
   "outputs": [],
   "source": [
    "for filename in filenames[7000:7200]:\n",
    "    unit, conversion, cpt, minvalue, maxvalue, fig_title, fig_name = get_info_file(filename, fig_type)\n",
    "    \n",
    "    sat_data, extent = read_define_bounds_netcdf(files_path + filename, conversion, extent)\n",
    "    \n",
    "    plot_save_figure(sat_data, extent, shapefile_path, grid_spacing, cpt, minvalue, maxvalue, fig_title, unit, save_path + fig_name) "
   ]
  },
  {
   "cell_type": "code",
   "execution_count": null,
   "metadata": {},
   "outputs": [],
   "source": [
    "for filename in filenames[7200:7400]:\n",
    "    unit, conversion, cpt, minvalue, maxvalue, fig_title, fig_name = get_info_file(filename, fig_type)\n",
    "    \n",
    "    sat_data, extent = read_define_bounds_netcdf(files_path + filename, conversion, extent)\n",
    "    \n",
    "    plot_save_figure(sat_data, extent, shapefile_path, grid_spacing, cpt, minvalue, maxvalue, fig_title, unit, save_path + fig_name) "
   ]
  },
  {
   "cell_type": "code",
   "execution_count": null,
   "metadata": {},
   "outputs": [],
   "source": [
    "for filename in filenames[7400:7600]:\n",
    "    unit, conversion, cpt, minvalue, maxvalue, fig_title, fig_name = get_info_file(filename, fig_type)\n",
    "    \n",
    "    sat_data, extent = read_define_bounds_netcdf(files_path + filename, conversion, extent)\n",
    "    \n",
    "    plot_save_figure(sat_data, extent, shapefile_path, grid_spacing, cpt, minvalue, maxvalue, fig_title, unit, save_path + fig_name) "
   ]
  },
  {
   "cell_type": "code",
   "execution_count": null,
   "metadata": {},
   "outputs": [],
   "source": [
    "for filename in filenames[7600:7800]:\n",
    "    unit, conversion, cpt, minvalue, maxvalue, fig_title, fig_name = get_info_file(filename, fig_type)\n",
    "    \n",
    "    sat_data, extent = read_define_bounds_netcdf(files_path + filename, conversion, extent)\n",
    "    \n",
    "    plot_save_figure(sat_data, extent, shapefile_path, grid_spacing, cpt, minvalue, maxvalue, fig_title, unit, save_path + fig_name) "
   ]
  },
  {
   "cell_type": "code",
   "execution_count": null,
   "metadata": {},
   "outputs": [],
   "source": [
    "for filename in filenames[7800:8000]:\n",
    "    unit, conversion, cpt, minvalue, maxvalue, fig_title, fig_name = get_info_file(filename, fig_type)\n",
    "    \n",
    "    sat_data, extent = read_define_bounds_netcdf(files_path + filename, conversion, extent)\n",
    "    \n",
    "    plot_save_figure(sat_data, extent, shapefile_path, grid_spacing, cpt, minvalue, maxvalue, fig_title, unit, save_path + fig_name) "
   ]
  },
  {
   "cell_type": "code",
   "execution_count": null,
   "metadata": {},
   "outputs": [],
   "source": [
    "for filename in filenames[8000:8200]:\n",
    "    unit, conversion, cpt, minvalue, maxvalue, fig_title, fig_name = get_info_file(filename, fig_type)\n",
    "    \n",
    "    sat_data, extent = read_define_bounds_netcdf(files_path + filename, conversion, extent)\n",
    "    \n",
    "    plot_save_figure(sat_data, extent, shapefile_path, grid_spacing, cpt, minvalue, maxvalue, fig_title, unit, save_path + fig_name) "
   ]
  },
  {
   "cell_type": "code",
   "execution_count": null,
   "metadata": {},
   "outputs": [],
   "source": [
    "for filename in filenames[8200:8400]:\n",
    "    unit, conversion, cpt, minvalue, maxvalue, fig_title, fig_name = get_info_file(filename, fig_type)\n",
    "    \n",
    "    sat_data, extent = read_define_bounds_netcdf(files_path + filename, conversion, extent)\n",
    "    \n",
    "    plot_save_figure(sat_data, extent, shapefile_path, grid_spacing, cpt, minvalue, maxvalue, fig_title, unit, save_path + fig_name) "
   ]
  },
  {
   "cell_type": "code",
   "execution_count": null,
   "metadata": {},
   "outputs": [],
   "source": [
    "for filename in filenames[8400:8600]:\n",
    "    unit, conversion, cpt, minvalue, maxvalue, fig_title, fig_name = get_info_file(filename, fig_type)\n",
    "    \n",
    "    sat_data, extent = read_define_bounds_netcdf(files_path + filename, conversion, extent)\n",
    "    \n",
    "    plot_save_figure(sat_data, extent, shapefile_path, grid_spacing, cpt, minvalue, maxvalue, fig_title, unit, save_path + fig_name) "
   ]
  },
  {
   "cell_type": "code",
   "execution_count": null,
   "metadata": {},
   "outputs": [],
   "source": [
    "for filename in filenames[8600:8800]:\n",
    "    unit, conversion, cpt, minvalue, maxvalue, fig_title, fig_name = get_info_file(filename, fig_type)\n",
    "    \n",
    "    sat_data, extent = read_define_bounds_netcdf(files_path + filename, conversion, extent)\n",
    "    \n",
    "    plot_save_figure(sat_data, extent, shapefile_path, grid_spacing, cpt, minvalue, maxvalue, fig_title, unit, save_path + fig_name) "
   ]
  },
  {
   "cell_type": "code",
   "execution_count": null,
   "metadata": {},
   "outputs": [],
   "source": [
    "for filename in filenames[8800:9000]:\n",
    "    unit, conversion, cpt, minvalue, maxvalue, fig_title, fig_name = get_info_file(filename, fig_type)\n",
    "    \n",
    "    sat_data, extent = read_define_bounds_netcdf(files_path + filename, conversion, extent)\n",
    "    \n",
    "    plot_save_figure(sat_data, extent, shapefile_path, grid_spacing, cpt, minvalue, maxvalue, fig_title, unit, save_path + fig_name) "
   ]
  },
  {
   "cell_type": "code",
   "execution_count": null,
   "metadata": {},
   "outputs": [],
   "source": [
    "for filename in filenames[9000:9200]:\n",
    "    unit, conversion, cpt, minvalue, maxvalue, fig_title, fig_name = get_info_file(filename, fig_type)\n",
    "    \n",
    "    sat_data, extent = read_define_bounds_netcdf(files_path + filename, conversion, extent)\n",
    "    \n",
    "    plot_save_figure(sat_data, extent, shapefile_path, grid_spacing, cpt, minvalue, maxvalue, fig_title, unit, save_path + fig_name) "
   ]
  },
  {
   "cell_type": "code",
   "execution_count": null,
   "metadata": {},
   "outputs": [],
   "source": [
    "for filename in filenames[9200:9400]:\n",
    "    unit, conversion, cpt, minvalue, maxvalue, fig_title, fig_name = get_info_file(filename, fig_type)\n",
    "    \n",
    "    sat_data, extent = read_define_bounds_netcdf(files_path + filename, conversion, extent)\n",
    "    \n",
    "    plot_save_figure(sat_data, extent, shapefile_path, grid_spacing, cpt, minvalue, maxvalue, fig_title, unit, save_path + fig_name) "
   ]
  },
  {
   "cell_type": "code",
   "execution_count": null,
   "metadata": {},
   "outputs": [],
   "source": [
    "for filename in filenames[9400:9600]:\n",
    "    unit, conversion, cpt, minvalue, maxvalue, fig_title, fig_name = get_info_file(filename, fig_type)\n",
    "    \n",
    "    sat_data, extent = read_define_bounds_netcdf(files_path + filename, conversion, extent)\n",
    "    \n",
    "    plot_save_figure(sat_data, extent, shapefile_path, grid_spacing, cpt, minvalue, maxvalue, fig_title, unit, save_path + fig_name) "
   ]
  },
  {
   "cell_type": "code",
   "execution_count": null,
   "metadata": {},
   "outputs": [],
   "source": [
    "for filename in filenames[9600:9800]:\n",
    "    unit, conversion, cpt, minvalue, maxvalue, fig_title, fig_name = get_info_file(filename, fig_type)\n",
    "    \n",
    "    sat_data, extent = read_define_bounds_netcdf(files_path + filename, conversion, extent)\n",
    "    \n",
    "    plot_save_figure(sat_data, extent, shapefile_path, grid_spacing, cpt, minvalue, maxvalue, fig_title, unit, save_path + fig_name) "
   ]
  },
  {
   "cell_type": "code",
   "execution_count": null,
   "metadata": {},
   "outputs": [],
   "source": [
    "for filename in filenames[9800:10000]:\n",
    "    unit, conversion, cpt, minvalue, maxvalue, fig_title, fig_name = get_info_file(filename, fig_type)\n",
    "    \n",
    "    sat_data, extent = read_define_bounds_netcdf(files_path + filename, conversion, extent)\n",
    "    \n",
    "    plot_save_figure(sat_data, extent, shapefile_path, grid_spacing, cpt, minvalue, maxvalue, fig_title, unit, save_path + fig_name) "
   ]
  },
  {
   "cell_type": "code",
   "execution_count": null,
   "metadata": {},
   "outputs": [],
   "source": [
    "for filename in filenames[10000:10200]:\n",
    "    unit, conversion, cpt, minvalue, maxvalue, fig_title, fig_name = get_info_file(filename, fig_type)\n",
    "    \n",
    "    sat_data, extent = read_define_bounds_netcdf(files_path + filename, conversion, extent)\n",
    "    \n",
    "    plot_save_figure(sat_data, extent, shapefile_path, grid_spacing, cpt, minvalue, maxvalue, fig_title, unit, save_path + fig_name) "
   ]
  },
  {
   "cell_type": "code",
   "execution_count": null,
   "metadata": {},
   "outputs": [],
   "source": [
    "for filename in filenames[10200:10400]:\n",
    "    unit, conversion, cpt, minvalue, maxvalue, fig_title, fig_name = get_info_file(filename, fig_type)\n",
    "    \n",
    "    sat_data, extent = read_define_bounds_netcdf(files_path + filename, conversion, extent)\n",
    "    \n",
    "    plot_save_figure(sat_data, extent, shapefile_path, grid_spacing, cpt, minvalue, maxvalue, fig_title, unit, save_path + fig_name) "
   ]
  },
  {
   "cell_type": "code",
   "execution_count": null,
   "metadata": {},
   "outputs": [],
   "source": [
    "for filename in filenames[10400:10600]:\n",
    "    unit, conversion, cpt, minvalue, maxvalue, fig_title, fig_name = get_info_file(filename, fig_type)\n",
    "    \n",
    "    sat_data, extent = read_define_bounds_netcdf(files_path + filename, conversion, extent)\n",
    "    \n",
    "    plot_save_figure(sat_data, extent, shapefile_path, grid_spacing, cpt, minvalue, maxvalue, fig_title, unit, save_path + fig_name) "
   ]
  },
  {
   "cell_type": "code",
   "execution_count": null,
   "metadata": {},
   "outputs": [],
   "source": [
    "for filename in filenames[10600:]:\n",
    "    unit, conversion, cpt, minvalue, maxvalu e, fig_title, fig_name = get_info_file(filename, fig_type)\n",
    "    \n",
    "    sat_data, extent = read_define_bounds_netcdf(files_path + filename, conversion, extent)\n",
    "    \n",
    "    plot_save_figure(sat_data, extent, shapefile_path, grid_spacing, cpt, minvalue, maxvalue, fig_title, unit, save_path + fig_name) "
   ]
  }
 ],
 "metadata": {
  "kernelspec": {
   "display_name": "Python 3",
   "language": "python",
   "name": "python3"
  },
  "language_info": {
   "codemirror_mode": {
    "name": "ipython",
    "version": 2
   },
   "file_extension": ".py",
   "mimetype": "text/x-python",
   "name": "python",
   "nbconvert_exporter": "python",
   "pygments_lexer": "ipython2",
   "version": "2.7.15"
  }
 },
 "nbformat": 4,
 "nbformat_minor": 2
}
