{
 "cells": [
  {
   "cell_type": "markdown",
   "metadata": {},
   "source": [
    "# GOES-16 Data\n",
    "\n",
    "- Reading NetCDF files with a remapping function (`remap`)\n",
    "- Plotting data with Basemap"
   ]
  },
  {
   "cell_type": "markdown",
   "metadata": {},
   "source": [
    "## Loading necessary packages"
   ]
  },
  {
   "cell_type": "code",
   "execution_count": null,
   "metadata": {},
   "outputs": [],
   "source": [
    "import matplotlib.pyplot as plt\n",
    "from netCDF4 import Dataset\n",
    "from mpl_toolkits.basemap import Basemap\n",
    "import numpy as np\n",
    "from datetime import datetime\n",
    "\n",
    "from remap import remap\n",
    "\n",
    "from cpt_convert import loadCPT\n",
    "from matplotlib.colors import LinearSegmentedColormap\n",
    "\n",
    "from extracting_band_info import extract_band_info"
   ]
  },
  {
   "cell_type": "markdown",
   "metadata": {},
   "source": [
    "## Defining necessary functions"
   ]
  },
  {
   "cell_type": "markdown",
   "metadata": {},
   "source": [
    "### `get_info_file`\n",
    "\n",
    "Using the name of the NetCDF file (*filename*), extract:\n",
    "\n",
    "- According to the band:\n",
    "    - *band_unit*, unit of the variable to be shown on the plot\n",
    "    - *band_conversion*, value to be added to convert from Kelvin to Celsius, if necessary\n",
    "    - *band_cpt*, color palette of the variable for the plot\n",
    "    - *band_minvalue*, minimum value of the variable for the plot\n",
    "    - *band_maxvalue*, maximum value of the variable for the plot\n",
    "- *title*, string to be used on the plot title\n",
    "- *name*, string to define the name of the saved figure"
   ]
  },
  {
   "cell_type": "code",
   "execution_count": null,
   "metadata": {},
   "outputs": [],
   "source": [
    "def get_info_file(filename, fig_type):\n",
    "    print('Getting info from ' + filename)\n",
    "    \n",
    "    band = (filename[filename.find('M3C') + 3:filename.find('_G16')])\n",
    "    band_cw, band_unit, band_conversion, band_cpt, band_minvalue, band_maxvalue = extract_band_info(band)\n",
    "    \n",
    "    start_timestamp = (filename[filename.find('_s') + 2:filename.find('_e')])\n",
    "    start_timestamp = datetime.strptime(start_timestamp[:13], '%Y%j%H%M%S')\n",
    "    end_timestamp = (filename[filename.find('_e') + 2:filename.find('_c')])\n",
    "    end_timestamp = datetime.strptime(end_timestamp[:13], '%Y%j%H%M%S')\n",
    "    \n",
    "    title = 'GOES-16 ABI Band ' + band + ' ' + band_cw + '\\n Scan from ' + str(start_timestamp) + ' to ' + str(end_timestamp.time()) + ' UTC'\n",
    "    name = 'Band_' + band + '/GOES16_B'+ band + '_' + fig_type + '_SD' + datetime.strftime(start_timestamp, '%Y%m%d%H%M') + '.png'\n",
    "    \n",
    "    return band_unit, band_conversion, band_cpt, band_minvalue, band_maxvalue, title, name"
   ]
  },
  {
   "cell_type": "markdown",
   "metadata": {},
   "source": [
    "### `read_define_bounds_netcdf`\n",
    "\n",
    "Using the NetCDF file:\n",
    "\n",
    "- Read with `ncdf4` to extract information about the data extent\n",
    "- Regrid to rectangular projection using `remap`\n",
    "\n",
    "**ATTENTION: If the files are from the Operational Mode (starting December 2017), `remap.py` should be altered! (line 15)**"
   ]
  },
  {
   "cell_type": "code",
   "execution_count": null,
   "metadata": {},
   "outputs": [],
   "source": [
    "def read_define_bounds_netcdf(file, band_conversion, extent):\n",
    "    print('Reading NetCDF file ' + file)\n",
    "    \n",
    "    nc = Dataset(file)\n",
    " \n",
    "    #-- Visualization extent for Full Disk\n",
    "    # geo_extent = nc.variables['geospatial_lat_lon_extent']\n",
    "    # min_lon = float(geo_extent.geospatial_westbound_longitude)\n",
    "    # max_lon = float(geo_extent.geospatial_eastbound_longitude)\n",
    "    # min_lat = float(geo_extent.geospatial_southbound_latitude)\n",
    "    # max_lat = float(geo_extent.geospatial_northbound_latitude)\n",
    "    # extent = [min_lon, min_lat, max_lon, max_lat]\n",
    "    \n",
    "    resolution = 2\n",
    " \n",
    "    #-- Image extent required for the reprojection\n",
    "    H = nc.variables['goes_imager_projection'].perspective_point_height\n",
    "    x1 = nc.variables['x_image_bounds'][0] * H # x1 = -5434894.885056 \n",
    "    x2 = nc.variables['x_image_bounds'][1] * H # x2 = 5434894.885056\n",
    "    y1 = nc.variables['y_image_bounds'][1] * H # y1 = -5434894.885056\n",
    "    y2 = nc.variables['y_image_bounds'][0] * H # y2 = 5434894.885056\n",
    "    grid = remap(file, extent, resolution, x1, y1, x2, y2) \n",
    "    \n",
    "    data = grid.ReadAsArray() + band_conversion\n",
    "    \n",
    "    return data, extent"
   ]
  },
  {
   "cell_type": "markdown",
   "metadata": {},
   "source": [
    "### `plot_save_figure`\n",
    "\n",
    "Using data and derived variables:\n",
    "\n",
    "- Plot using shapefiles *ne_10m_admin_0_countries* (global) and *estadosl_2007* (Brazilian states), as well as pre-defined spacing according to image boundaries (*grid_spacing*)\n",
    "- Save the resulting figure with transparent background"
   ]
  },
  {
   "cell_type": "code",
   "execution_count": null,
   "metadata": {},
   "outputs": [],
   "source": [
    "def plot_save_figure(data, extent, shapefile, grid_spacing, cpt, min_value, max_value, title, band_unit, name):\n",
    "    fig = plt.figure(figsize=(5, 6))\n",
    "    fig.set_facecolor(\"w\")\n",
    "    ax = fig.add_subplot(111)\n",
    "\n",
    "    bmap = Basemap(llcrnrlon=extent[0], llcrnrlat=extent[1], urcrnrlon=extent[2], urcrnrlat=extent[3], epsg=4326)\n",
    "\n",
    "    bmap.readshapefile(shapefile + 'ne_10m_admin_0_countries', 'ne_10m_admin_0_countries', linewidth=0.5, color='darkslategray')\n",
    "    bmap.readshapefile(shapefile + 'estadosl_2007', 'estadosl_2007', linewidth=0.3, color='darkslategray')\n",
    "    bmap.drawparallels(np.arange(-90.0, 90.0, grid_spacing), linewidth=0.25, color='white', labels=[True,False,False,True])\n",
    "    bmap.drawmeridians(np.arange(0.0, 360.0, grid_spacing), linewidth=0.25, color='white', labels=[True,False,False,True])\n",
    "\n",
    "    cpt_convert = LinearSegmentedColormap('cpt', cpt)\n",
    "\n",
    "    bmap.imshow(data, origin='upper', cmap=cpt_convert, vmin=min_value, vmax=max_value)\n",
    "\n",
    "    plt.title(title.decode(\"utf8\"), weight='bold', stretch='condensed', size='large')\n",
    "    bmap.colorbar(location='right', label=band_unit.decode(\"utf8\"))\n",
    "    \n",
    "    print('Saving figure in ' + name)\n",
    "    plt.savefig(name, dpi=300, transparent=True, bbox_inches='tight')\n",
    "    plt.close()\n",
    "    \n",
    "    print('--------------------------------------------------------------------------------------------------------------')"
   ]
  },
  {
   "cell_type": "markdown",
   "metadata": {},
   "source": [
    "## Defining filepaths and custom variables"
   ]
  },
  {
   "cell_type": "code",
   "execution_count": null,
   "metadata": {},
   "outputs": [],
   "source": [
    "shapefile_path = '../Data/GENERAL/shapefiles/'\n",
    "files_path = '../Data/SATELLITE/GOES16/level_2/2017/'\n",
    "save_path = 'figures/'\n",
    "\n",
    "filenames = open('g16_filenames.txt').read().split('\\n')[:-1]\n",
    "\n",
    "#-- Custom visualization extent and grid spacing\n",
    "#-- South America\n",
    "extent = [-85., -60., -30., 15.] #-- [min lon, min lat, max lon, max lat]\n",
    "grid_spacing = 10.0\n",
    "fig_type = 'SA'"
   ]
  },
  {
   "cell_type": "markdown",
   "metadata": {},
   "source": [
    "## Processing all the files in *filenames*"
   ]
  },
  {
   "cell_type": "code",
   "execution_count": null,
   "metadata": {},
   "outputs": [],
   "source": [
    "for filename in filenames:\n",
    "    unit, conversion, cpt, minvalue, maxvalue, fig_title, fig_name = get_info_file(filename, fig_type)\n",
    "    \n",
    "    sat_data, extent = read_define_bounds_netcdf(files_path + filename, conversion, extent)\n",
    "    \n",
    "    plot_save_figure(sat_data, extent, shapefile_path, grid_spacing, cpt, minvalue, maxvalue, fig_title, unit, save_path + fig_name) "
   ]
  }
 ],
 "metadata": {
  "kernelspec": {
   "display_name": "Python 3",
   "language": "python",
   "name": "python3"
  },
  "language_info": {
   "codemirror_mode": {
    "name": "ipython",
    "version": 2
   },
   "file_extension": ".py",
   "mimetype": "text/x-python",
   "name": "python",
   "nbconvert_exporter": "python",
   "pygments_lexer": "ipython2",
   "version": "2.7.15"
  }
 },
 "nbformat": 4,
 "nbformat_minor": 2
}
